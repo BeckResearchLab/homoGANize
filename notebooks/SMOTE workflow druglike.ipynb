{
 "cells": [
  {
   "cell_type": "code",
   "execution_count": 1,
   "metadata": {},
   "outputs": [],
   "source": [
    "import numpy as np\n",
    "import pandas as pd\n",
    "from sklearn.preprocessing import StandardScaler\n",
    "from sklearn.model_selection import train_test_split\n",
    "from imblearn.over_sampling import SMOTE"
   ]
  },
  {
   "cell_type": "code",
   "execution_count": 22,
   "metadata": {},
   "outputs": [],
   "source": [
    "drugall = pd.read_csv('../../big datasets/drug_data_to_use.csv')"
   ]
  },
  {
   "cell_type": "code",
   "execution_count": 27,
   "metadata": {},
   "outputs": [
    {
     "data": {
      "text/html": [
       "<div>\n",
       "<style scoped>\n",
       "    .dataframe tbody tr th:only-of-type {\n",
       "        vertical-align: middle;\n",
       "    }\n",
       "\n",
       "    .dataframe tbody tr th {\n",
       "        vertical-align: top;\n",
       "    }\n",
       "\n",
       "    .dataframe thead th {\n",
       "        text-align: right;\n",
       "    }\n",
       "</style>\n",
       "<table border=\"1\" class=\"dataframe\">\n",
       "  <thead>\n",
       "    <tr style=\"text-align: right;\">\n",
       "      <th></th>\n",
       "      <th>Class</th>\n",
       "      <th>nAcid</th>\n",
       "      <th>ALogP</th>\n",
       "      <th>ALogp2</th>\n",
       "      <th>AMR</th>\n",
       "      <th>nN</th>\n",
       "      <th>nO</th>\n",
       "      <th>nS</th>\n",
       "      <th>nP</th>\n",
       "      <th>nF</th>\n",
       "      <th>...</th>\n",
       "      <th>JGI7</th>\n",
       "      <th>JGI8</th>\n",
       "      <th>JGI9</th>\n",
       "      <th>JGI10</th>\n",
       "      <th>VE1_D</th>\n",
       "      <th>VR1_D</th>\n",
       "      <th>WTPT-1</th>\n",
       "      <th>WTPT-2</th>\n",
       "      <th>WTPT-3</th>\n",
       "      <th>XLogP</th>\n",
       "    </tr>\n",
       "  </thead>\n",
       "  <tbody>\n",
       "    <tr>\n",
       "      <th>0</th>\n",
       "      <td>1</td>\n",
       "      <td>0.0</td>\n",
       "      <td>0.2842</td>\n",
       "      <td>0.080770</td>\n",
       "      <td>86.9785</td>\n",
       "      <td>0.0</td>\n",
       "      <td>4.0</td>\n",
       "      <td>0.0</td>\n",
       "      <td>0.0</td>\n",
       "      <td>0.0</td>\n",
       "      <td>...</td>\n",
       "      <td>0.021016</td>\n",
       "      <td>0.016358</td>\n",
       "      <td>0.012000</td>\n",
       "      <td>0.012346</td>\n",
       "      <td>0.009428</td>\n",
       "      <td>230.520837</td>\n",
       "      <td>47.495419</td>\n",
       "      <td>2.065018</td>\n",
       "      <td>11.316324</td>\n",
       "      <td>2.665</td>\n",
       "    </tr>\n",
       "    <tr>\n",
       "      <th>1</th>\n",
       "      <td>1</td>\n",
       "      <td>0.0</td>\n",
       "      <td>-0.6801</td>\n",
       "      <td>0.462536</td>\n",
       "      <td>94.5871</td>\n",
       "      <td>2.0</td>\n",
       "      <td>2.0</td>\n",
       "      <td>0.0</td>\n",
       "      <td>0.0</td>\n",
       "      <td>0.0</td>\n",
       "      <td>...</td>\n",
       "      <td>0.011177</td>\n",
       "      <td>0.018664</td>\n",
       "      <td>0.007760</td>\n",
       "      <td>0.010000</td>\n",
       "      <td>0.163765</td>\n",
       "      <td>250.398458</td>\n",
       "      <td>47.828913</td>\n",
       "      <td>2.079518</td>\n",
       "      <td>13.788202</td>\n",
       "      <td>0.939</td>\n",
       "    </tr>\n",
       "    <tr>\n",
       "      <th>2</th>\n",
       "      <td>1</td>\n",
       "      <td>0.0</td>\n",
       "      <td>1.0460</td>\n",
       "      <td>1.094116</td>\n",
       "      <td>87.4012</td>\n",
       "      <td>0.0</td>\n",
       "      <td>4.0</td>\n",
       "      <td>0.0</td>\n",
       "      <td>0.0</td>\n",
       "      <td>0.0</td>\n",
       "      <td>...</td>\n",
       "      <td>0.019206</td>\n",
       "      <td>0.008902</td>\n",
       "      <td>0.010859</td>\n",
       "      <td>0.013740</td>\n",
       "      <td>0.124083</td>\n",
       "      <td>1645.934186</td>\n",
       "      <td>43.058016</td>\n",
       "      <td>2.050382</td>\n",
       "      <td>11.246419</td>\n",
       "      <td>2.072</td>\n",
       "    </tr>\n",
       "    <tr>\n",
       "      <th>3</th>\n",
       "      <td>1</td>\n",
       "      <td>0.0</td>\n",
       "      <td>-0.3414</td>\n",
       "      <td>0.116554</td>\n",
       "      <td>64.9254</td>\n",
       "      <td>0.0</td>\n",
       "      <td>7.0</td>\n",
       "      <td>0.0</td>\n",
       "      <td>0.0</td>\n",
       "      <td>0.0</td>\n",
       "      <td>...</td>\n",
       "      <td>0.020991</td>\n",
       "      <td>0.008724</td>\n",
       "      <td>0.013333</td>\n",
       "      <td>0.000000</td>\n",
       "      <td>0.169516</td>\n",
       "      <td>179.576794</td>\n",
       "      <td>36.989542</td>\n",
       "      <td>1.946818</td>\n",
       "      <td>18.859169</td>\n",
       "      <td>1.052</td>\n",
       "    </tr>\n",
       "    <tr>\n",
       "      <th>4</th>\n",
       "      <td>1</td>\n",
       "      <td>0.0</td>\n",
       "      <td>1.6169</td>\n",
       "      <td>2.614366</td>\n",
       "      <td>70.6318</td>\n",
       "      <td>1.0</td>\n",
       "      <td>4.0</td>\n",
       "      <td>0.0</td>\n",
       "      <td>0.0</td>\n",
       "      <td>0.0</td>\n",
       "      <td>...</td>\n",
       "      <td>0.024706</td>\n",
       "      <td>0.013454</td>\n",
       "      <td>0.009896</td>\n",
       "      <td>0.012346</td>\n",
       "      <td>0.147100</td>\n",
       "      <td>143.314817</td>\n",
       "      <td>36.802051</td>\n",
       "      <td>1.936950</td>\n",
       "      <td>13.302624</td>\n",
       "      <td>1.450</td>\n",
       "    </tr>\n",
       "  </tbody>\n",
       "</table>\n",
       "<p>5 rows × 296 columns</p>\n",
       "</div>"
      ],
      "text/plain": [
       "   Class  nAcid   ALogP    ALogp2      AMR   nN   nO   nS   nP   nF  ...  \\\n",
       "0      1    0.0  0.2842  0.080770  86.9785  0.0  4.0  0.0  0.0  0.0  ...   \n",
       "1      1    0.0 -0.6801  0.462536  94.5871  2.0  2.0  0.0  0.0  0.0  ...   \n",
       "2      1    0.0  1.0460  1.094116  87.4012  0.0  4.0  0.0  0.0  0.0  ...   \n",
       "3      1    0.0 -0.3414  0.116554  64.9254  0.0  7.0  0.0  0.0  0.0  ...   \n",
       "4      1    0.0  1.6169  2.614366  70.6318  1.0  4.0  0.0  0.0  0.0  ...   \n",
       "\n",
       "       JGI7      JGI8      JGI9     JGI10     VE1_D        VR1_D     WTPT-1  \\\n",
       "0  0.021016  0.016358  0.012000  0.012346  0.009428   230.520837  47.495419   \n",
       "1  0.011177  0.018664  0.007760  0.010000  0.163765   250.398458  47.828913   \n",
       "2  0.019206  0.008902  0.010859  0.013740  0.124083  1645.934186  43.058016   \n",
       "3  0.020991  0.008724  0.013333  0.000000  0.169516   179.576794  36.989542   \n",
       "4  0.024706  0.013454  0.009896  0.012346  0.147100   143.314817  36.802051   \n",
       "\n",
       "     WTPT-2     WTPT-3  XLogP  \n",
       "0  2.065018  11.316324  2.665  \n",
       "1  2.079518  13.788202  0.939  \n",
       "2  2.050382  11.246419  2.072  \n",
       "3  1.946818  18.859169  1.052  \n",
       "4  1.936950  13.302624  1.450  \n",
       "\n",
       "[5 rows x 296 columns]"
      ]
     },
     "execution_count": 27,
     "metadata": {},
     "output_type": "execute_result"
    }
   ],
   "source": [
    "drug_neg = drugall.iloc[1017:,:].copy()\n",
    "classtox = []\n",
    "\n",
    "for index, row in drug_neg.iterrows():\n",
    "    classtox.append(0)\n",
    "    \n",
    "drug_neg.insert(loc=1, column='Class', value=classtox)\n",
    "\n",
    "\n",
    "\n",
    "drug_pos = drugall.iloc[:1017,:].copy()\n",
    "classdrug = []\n",
    "\n",
    "for index, row in drug_pos.iterrows():\n",
    "    classdrug.append(1)\n",
    "    \n",
    "drug_pos.insert(loc=1, column='Class', value=classdrug)\n",
    "\n",
    "drug_pos.drop(['Unnamed: 0','Unnamed: 0.1'],axis=1, inplace=True)\n",
    "drug_neg.drop(['Unnamed: 0','Unnamed: 0.1'],axis=1, inplace=True)\n",
    "drug_pos.head()"
   ]
  },
  {
   "cell_type": "code",
   "execution_count": 28,
   "metadata": {},
   "outputs": [],
   "source": [
    "drugall = drug_pos.append(drug_neg)"
   ]
  },
  {
   "cell_type": "code",
   "execution_count": 29,
   "metadata": {},
   "outputs": [],
   "source": [
    "drugall.to_csv('../../big datasets/drugall_with_classes.csv')"
   ]
  },
  {
   "cell_type": "code",
   "execution_count": 43,
   "metadata": {},
   "outputs": [],
   "source": [
    "drug_pos_features = drug_pos.iloc[:,1:]\n",
    "drug_pos_features.head()\n",
    "drug_pos_class = drug_pos['Class']\n",
    "\n",
    "drug_neg_features = drug_neg.iloc[:,1:]\n",
    "drug_neg_class = drug_neg['Class']"
   ]
  },
  {
   "cell_type": "code",
   "execution_count": 44,
   "metadata": {},
   "outputs": [],
   "source": [
    "x_train_neg, x_test_neg, y_train_neg, y_test_neg = train_test_split(drug_neg_features, drug_neg_class, test_size=0.2, random_state=12)\n",
    "x_train, x_test, y_train, y_test = train_test_split(drug_pos_features, drug_pos_class, test_size=0.2, random_state=12)\n"
   ]
  },
  {
   "cell_type": "code",
   "execution_count": 45,
   "metadata": {},
   "outputs": [
    {
     "data": {
      "text/plain": [
       "True"
      ]
     },
     "execution_count": 45,
     "metadata": {},
     "output_type": "execute_result"
    }
   ],
   "source": [
    "x_train = x_train.append(x_train_neg)\n",
    "x_test = x_test.append(x_test_neg)\n",
    "y_train = y_train.append(y_train_neg)\n",
    "y_test = y_test.append(y_test_neg)\n",
    "all_train = x_train.join(y_train)\n",
    "all_test = x_test.join(y_test)\n",
    "len(y_test) == len(x_test)\n",
    "len(x_train) == len(y_train)"
   ]
  },
  {
   "cell_type": "code",
   "execution_count": 48,
   "metadata": {},
   "outputs": [
    {
     "name": "stdout",
     "output_type": "stream",
     "text": [
      "<class 'pandas.core.frame.DataFrame'>\n",
      "Int64Index: 1043 entries, 372 to 1172\n",
      "Columns: 279 entries, nAcid to Class\n",
      "dtypes: float64(278), int64(1)\n",
      "memory usage: 2.3 MB\n"
     ]
    },
    {
     "data": {
      "text/plain": [
       "(     nAcid   ALogP    ALogp2       AMR   nN   nO   nS   nP   nF  nCl  ...  \\\n",
       " 372    0.0 -2.0083  4.033269   83.5689  2.0  5.0  0.0  0.0  1.0  0.0  ...   \n",
       " 360    0.0 -1.5431  2.381158   98.3173  3.0  4.0  1.0  0.0  0.0  0.0  ...   \n",
       " 799    0.0  0.1530  0.023409   98.4411  2.0  3.0  0.0  0.0  0.0  0.0  ...   \n",
       " 263    0.0 -3.0456  9.275679  102.8853  5.0  1.0  0.0  0.0  0.0  0.0  ...   \n",
       " 425    0.0 -0.5105  0.260610   93.8320  2.0  3.0  0.0  0.0  0.0  0.0  ...   \n",
       " \n",
       "          JGI8      JGI9     JGI10     VE1_D       VR1_D     WTPT-1    WTPT-2  \\\n",
       " 372  0.011339  0.009392  0.005648  0.004290  252.735571  49.913289  1.996532   \n",
       " 360  0.013213  0.009712  0.008328  0.158715  300.918715  52.817771  2.031453   \n",
       " 799  0.008273  0.009643  0.005663  0.066221  368.184630  49.516759  2.063198   \n",
       " 263  0.005603  0.008608  0.005493  0.083425  344.368465  55.858018  2.068815   \n",
       " 425  0.019596  0.013438  0.013555  0.230550  200.220486  49.422468  2.059269   \n",
       " \n",
       "         WTPT-3  XLogP  Class  \n",
       " 372  21.705622 -0.684      1  \n",
       " 360  22.609031  1.002      1  \n",
       " 799  14.479043  0.926      1  \n",
       " 263  18.823231  0.074      1  \n",
       " 425  15.418395  0.506      1  \n",
       " \n",
       " [5 rows x 279 columns], None)"
      ]
     },
     "execution_count": 48,
     "metadata": {},
     "output_type": "execute_result"
    }
   ],
   "source": [
    "all_train.drop(all_train.select_dtypes(['object']), inplace=True, axis=1)\n",
    "all_train.astype('float64')\n",
    "\n",
    "all_test.drop(all_test.select_dtypes(['object']), inplace=True, axis=1)\n",
    "all_test.astype('float64')\n",
    "\n",
    "all_train.head(), all_train.info()"
   ]
  },
  {
   "cell_type": "code",
   "execution_count": 49,
   "metadata": {},
   "outputs": [],
   "source": [
    "with pd.option_context('mode.use_inf_as_null', True):\n",
    "    all_train = all_train.dropna(how='all', axis=1)\n",
    "    all_test = all_test.dropna(how='all',axis=1)"
   ]
  },
  {
   "cell_type": "code",
   "execution_count": 50,
   "metadata": {},
   "outputs": [
    {
     "data": {
      "text/plain": [
       "True"
      ]
     },
     "execution_count": 50,
     "metadata": {},
     "output_type": "execute_result"
    }
   ],
   "source": [
    "all_train = all_train[np.isfinite(all_train).all(1)]\n",
    "all_test = all_test[np.isfinite(all_test).all(1)]\n",
    "all_train.shape[1] == all_test.shape[1]"
   ]
  },
  {
   "cell_type": "code",
   "execution_count": 51,
   "metadata": {},
   "outputs": [],
   "source": [
    "y_train = all_train['Class']\n",
    "x_train = all_train.drop(['Class'], axis=1)\n",
    "\n",
    "x_test = all_test.drop(['Class'], axis=1)\n",
    "y_test = all_test['Class']"
   ]
  },
  {
   "cell_type": "code",
   "execution_count": 52,
   "metadata": {},
   "outputs": [
    {
     "data": {
      "text/plain": [
       "1164    0\n",
       "1269    0\n",
       "1043    0\n",
       "1208    0\n",
       "1096    0\n",
       "1039    0\n",
       "1265    0\n",
       "1089    0\n",
       "1093    0\n",
       "1155    0\n",
       "1063    0\n",
       "1181    0\n",
       "1288    0\n",
       "1071    0\n",
       "1261    0\n",
       "1088    0\n",
       "1180    0\n",
       "1197    0\n",
       "1206    0\n",
       "1193    0\n",
       "1019    0\n",
       "1045    0\n",
       "1304    0\n",
       "1026    0\n",
       "1086    0\n",
       "1264    0\n",
       "1170    0\n",
       "1114    0\n",
       "1119    0\n",
       "1201    0\n",
       "       ..\n",
       "1182    0\n",
       "1061    0\n",
       "1082    0\n",
       "1241    0\n",
       "1021    0\n",
       "1242    0\n",
       "1263    0\n",
       "1042    0\n",
       "1275    0\n",
       "1044    0\n",
       "1177    0\n",
       "1257    0\n",
       "1090    0\n",
       "1126    0\n",
       "1140    0\n",
       "1151    0\n",
       "1163    0\n",
       "1136    0\n",
       "1175    0\n",
       "1117    0\n",
       "1221    0\n",
       "1091    0\n",
       "1135    0\n",
       "1158    0\n",
       "1295    0\n",
       "1276    0\n",
       "1147    0\n",
       "1258    0\n",
       "1270    0\n",
       "1172    0\n",
       "Name: Class, Length: 100, dtype: int64"
      ]
     },
     "execution_count": 52,
     "metadata": {},
     "output_type": "execute_result"
    }
   ],
   "source": [
    "y_train.tail(100)"
   ]
  },
  {
   "cell_type": "code",
   "execution_count": 53,
   "metadata": {},
   "outputs": [],
   "source": [
    "from sklearn.preprocessing import StandardScaler\n",
    "xscaler = StandardScaler().fit(x_train)\n",
    "x_train = xscaler.transform(x_train)\n",
    "testscaler = StandardScaler().fit(x_test)\n",
    "x_test = testscaler.transform(x_test)"
   ]
  },
  {
   "cell_type": "code",
   "execution_count": 54,
   "metadata": {},
   "outputs": [],
   "source": [
    "sm = SMOTE(random_state=2)\n",
    "x_train_res, y_train_res = sm.fit_resample(x_train, y_train)"
   ]
  },
  {
   "cell_type": "code",
   "execution_count": 55,
   "metadata": {},
   "outputs": [
    {
     "name": "stdout",
     "output_type": "stream",
     "text": [
      "990 990 1626 1626\n"
     ]
    }
   ],
   "source": [
    "print(len(x_train),len(y_train),len(x_train_res),len(y_train_res))"
   ]
  },
  {
   "cell_type": "code",
   "execution_count": 17,
   "metadata": {},
   "outputs": [],
   "source": [
    "x_train_res = pd.DataFrame(x_train_res)\n",
    "y_train_res = pd.DataFrame(y_train_res)\n",
    "x_test = pd.DataFrame(x_test)\n",
    "y_test = pd.DataFrame(y_test)"
   ]
  },
  {
   "cell_type": "code",
   "execution_count": 18,
   "metadata": {},
   "outputs": [],
   "source": [
    "x_train_res.to_csv('../../big datasets/drugml/x_train_res.csv')\n",
    "y_train_res.to_csv('../../big datasets/drugml/y_train_res.csv')\n",
    "x_test.to_csv('../../big datasets/drugml/x_test.csv')\n",
    "y_test.to_csv('../../big datasets/drugml/y_test.csv')"
   ]
  },
  {
   "cell_type": "code",
   "execution_count": 56,
   "metadata": {},
   "outputs": [
    {
     "data": {
      "text/plain": [
       "1177    0\n",
       "1257    0\n",
       "1090    0\n",
       "1126    0\n",
       "1140    0\n",
       "1151    0\n",
       "1163    0\n",
       "1136    0\n",
       "1175    0\n",
       "1117    0\n",
       "1221    0\n",
       "1091    0\n",
       "1135    0\n",
       "1158    0\n",
       "1295    0\n",
       "1276    0\n",
       "1147    0\n",
       "1258    0\n",
       "1270    0\n",
       "1172    0\n",
       "Name: Class, dtype: int64"
      ]
     },
     "execution_count": 56,
     "metadata": {},
     "output_type": "execute_result"
    }
   ],
   "source": [
    "y_train.tail(20)"
   ]
  },
  {
   "cell_type": "code",
   "execution_count": 20,
   "metadata": {},
   "outputs": [
    {
     "data": {
      "text/plain": [
       "count    990.000000\n",
       "mean       0.821212\n",
       "std        0.383368\n",
       "min        0.000000\n",
       "25%        1.000000\n",
       "50%        1.000000\n",
       "75%        1.000000\n",
       "max        1.000000\n",
       "Name: Class, dtype: float64"
      ]
     },
     "execution_count": 20,
     "metadata": {},
     "output_type": "execute_result"
    }
   ],
   "source": [
    "y_train.describe()"
   ]
  },
  {
   "cell_type": "code",
   "execution_count": null,
   "metadata": {},
   "outputs": [],
   "source": []
  }
 ],
 "metadata": {
  "kernelspec": {
   "display_name": "Python 3",
   "language": "python",
   "name": "python3"
  },
  "language_info": {
   "codemirror_mode": {
    "name": "ipython",
    "version": 3
   },
   "file_extension": ".py",
   "mimetype": "text/x-python",
   "name": "python",
   "nbconvert_exporter": "python",
   "pygments_lexer": "ipython3",
   "version": "3.7.0"
  }
 },
 "nbformat": 4,
 "nbformat_minor": 2
}
