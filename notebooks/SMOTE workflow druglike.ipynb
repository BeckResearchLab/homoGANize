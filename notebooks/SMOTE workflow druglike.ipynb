{
 "cells": [
  {
   "cell_type": "code",
   "execution_count": null,
   "metadata": {},
   "outputs": [],
   "source": [
    "import numpy as np\n",
    "import pandas as pd\n",
    "from sklearn.preprocessing import StandardScaler\n",
    "from sklearn.model_selection import train_test_split\n",
    "from imblearn.over_sampling import SMOTE"
   ]
  },
  {
   "cell_type": "code",
   "execution_count": null,
   "metadata": {},
   "outputs": [],
   "source": [
    "drugall = pd.read_csv('../../big datasets/drug_data_to_use.csv')"
   ]
  },
  {
   "cell_type": "code",
   "execution_count": null,
   "metadata": {},
   "outputs": [],
   "source": [
    "drug_neg = drugall.iloc[1017:,:]\n",
    "classtox = []\n",
    "\n",
    "for index, row in drug_neg.iterrows():\n",
    "    classtox.append(0)\n",
    "    \n",
    "drug_neg.insert(loc=1, column='Class', value=classtox)\n",
    "\n",
    "\n",
    "\n",
    "drug_pos = drugall.iloc[:1017,:]\n",
    "classdrug = []\n",
    "\n",
    "for index, row in drug_pos.iterrows():\n",
    "    classdrug.append(1)\n",
    "    \n",
    "drug_pos.insert(loc=1, column='Class', value=classdrug)\n",
    "\n",
    "drug_pos.head()"
   ]
  },
  {
   "cell_type": "code",
   "execution_count": null,
   "metadata": {},
   "outputs": [],
   "source": [
    "drugall = drug_pos.append(drug_neg)"
   ]
  },
  {
   "cell_type": "code",
   "execution_count": null,
   "metadata": {},
   "outputs": [],
   "source": [
    "drugall.to_csv('../../big datasets/drugall_with_classes.csv')"
   ]
  },
  {
   "cell_type": "code",
   "execution_count": null,
   "metadata": {},
   "outputs": [],
   "source": [
    "drug_pos_features = drug_pos.iloc[:,2:]\n",
    "drug_pos_features.head()\n",
    "drug_pos_class = drug_pos['Class']\n",
    "\n",
    "drug_neg_features = drug_neg.iloc[:,2:]\n",
    "drug_neg_class = drug_neg['Class']"
   ]
  },
  {
   "cell_type": "code",
   "execution_count": null,
   "metadata": {},
   "outputs": [],
   "source": [
    "x_train_neg, x_test_neg, y_train_neg, y_test_neg = train_test_split(drug_neg_features, drug_neg_class, test_size=0.2, random_state=12)\n",
    "x_train, x_test, y_train, y_test = train_test_split(drug_pos_features, drug_pos_class, test_size=0.2, random_state=12)\n"
   ]
  },
  {
   "cell_type": "code",
   "execution_count": null,
   "metadata": {},
   "outputs": [],
   "source": [
    "x_train = x_train.append(x_train_neg)\n",
    "x_test = x_test.append(x_test_neg)\n",
    "y_train = y_train.append(y_train_neg)\n",
    "y_test = y_test.append(y_test_neg)\n",
    "all_train = x_train.join(y_train)\n",
    "all_test = x_test.join(y_test)\n",
    "len(y_test) == len(x_test)\n",
    "len(x_train) == len(y_train)"
   ]
  },
  {
   "cell_type": "code",
   "execution_count": null,
   "metadata": {},
   "outputs": [],
   "source": [
    "all_train.drop(all_train.select_dtypes(['object']), inplace=True, axis=1)\n",
    "all_train.astype('float64')\n",
    "\n",
    "all_test.drop(all_test.select_dtypes(['object']), inplace=True, axis=1)\n",
    "all_test.astype('float64')\n",
    "\n",
    "all_train.head(), all_train.info()"
   ]
  },
  {
   "cell_type": "code",
   "execution_count": null,
   "metadata": {},
   "outputs": [],
   "source": [
    "with pd.option_context('mode.use_inf_as_null', True):\n",
    "    all_train = all_train.dropna(how='all', axis=1)\n",
    "    all_test = all_test.dropna(how='all',axis=1)"
   ]
  },
  {
   "cell_type": "code",
   "execution_count": null,
   "metadata": {},
   "outputs": [],
   "source": [
    "all_train = all_train[np.isfinite(all_train).all(1)]\n",
    "all_test = all_test[np.isfinite(all_test).all(1)]\n",
    "all_train.shape[1] == all_test.shape[1]"
   ]
  },
  {
   "cell_type": "code",
   "execution_count": null,
   "metadata": {},
   "outputs": [],
   "source": [
    "y_train = all_train['Class']\n",
    "x_train = all_train.drop(['Class'], axis=1)\n",
    "\n",
    "x_test = all_test.drop(['Class'], axis=1)\n",
    "y_test = all_test['Class']"
   ]
  },
  {
   "cell_type": "code",
   "execution_count": null,
   "metadata": {},
   "outputs": [],
   "source": [
    "from sklearn.preprocessing import StandardScaler\n",
    "xscaler = StandardScaler().fit(x_train)\n",
    "x_train = xscaler.transform(x_train)\n",
    "testscaler = StandardScaler().fit(x_test)\n",
    "x_test = testscaler.transform(x_test)"
   ]
  },
  {
   "cell_type": "code",
   "execution_count": null,
   "metadata": {},
   "outputs": [],
   "source": [
    "sm = SMOTE(random_state=2)\n",
    "x_train_res, y_train_res = sm.fit_resample(x_train, y_train)"
   ]
  },
  {
   "cell_type": "code",
   "execution_count": null,
   "metadata": {},
   "outputs": [],
   "source": [
    "print(len(x_train),len(y_train),len(x_train_res),len(y_train_res))"
   ]
  }
 ],
 "metadata": {
  "kernelspec": {
   "display_name": "Python 3",
   "language": "python",
   "name": "python3"
  },
  "language_info": {
   "codemirror_mode": {
    "name": "ipython",
    "version": 3
   },
   "file_extension": ".py",
   "mimetype": "text/x-python",
   "name": "python",
   "nbconvert_exporter": "python",
   "pygments_lexer": "ipython3",
   "version": "3.7.0"
  }
 },
 "nbformat": 4,
 "nbformat_minor": 2
}
