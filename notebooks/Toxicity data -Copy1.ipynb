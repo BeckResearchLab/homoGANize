{
 "cells": [
  {
   "cell_type": "code",
   "execution_count": 5,
   "metadata": {},
   "outputs": [],
   "source": [
    "import pandas as pd\n",
    "import cirpy as cpy\n",
    "import numpy as np"
   ]
  },
  {
   "cell_type": "markdown",
   "metadata": {},
   "source": [
    "cpy.resolve('1-AZOXYPROPANE', 'smiles')"
   ]
  },
  {
   "cell_type": "markdown",
   "metadata": {},
   "source": [
    "smiles = [] \n",
    "for index, row in df.iterrows(): \n",
    "    smile = cpy.resolve(row['name'], 'smiles')\n",
    "    smiles.append(smile)"
   ]
  },
  {
   "cell_type": "markdown",
   "metadata": {},
   "source": [
    "from rdkit import rdBase\n",
    "from rdkit import Chem\n",
    "from rdkit.Chem.rdmolfiles import SmilesWriter\n",
    "from rdkit.Chem.rdmolfiles import SDWriter\n",
    "from rdkit.Chem.Fingerprints import FingerprintMols"
   ]
  },
  {
   "cell_type": "markdown",
   "metadata": {},
   "source": [
    "def fingerprint(input_df):\n",
    "    '''From the input dataframe, makes a list of rdkit Mol objects and makes a\n",
    "    list of rdkit fingerprints generated from those Mol objects. Inserts both\n",
    "    lists as new columns and returns the expanded dataframe.'''\n",
    "    \n",
    "    mol_list = []\n",
    "    fp_list = []\n",
    "\n",
    "    for index, row in input_df.iterrows():\n",
    "        mol = Chem.rdmolfiles.MolFromSmiles(row['SMILES'])\n",
    "        if not mol: \n",
    "            mol_list.append('None')\n",
    "            fp_list.append('None')\n",
    "            continue\n",
    "        mol_list.append(mol) #get mols from SMILES and add mols to list\n",
    "        fp = FingerprintMols.FingerprintMol(mol)\n",
    "        fp_list.append(mol) #get fingerprints from mols and and fingerprints to list\n",
    "\n",
    "    input_df['Mol'] = mol_list\n",
    "    input_df['Fingerprint'] = fp_list\n",
    "\n",
    "    return input_df"
   ]
  },
  {
   "cell_type": "markdown",
   "metadata": {},
   "source": [
    "testmol = Chem.rdmolfiles.MolFromSmiles('Cc1cc(C)c(N)cc1C')"
   ]
  },
  {
   "cell_type": "markdown",
   "metadata": {},
   "source": [
    "mols = [mol for mol in neg['Mol']]\n",
    "writer = SDWriter('../../big datasets/neg.sdf')\n",
    "for mol in mols:\n",
    "    writer.write(mol)\n",
    "writer.close()"
   ]
  },
  {
   "cell_type": "markdown",
   "metadata": {},
   "source": [
    "from natsort import natsorted, index_natsorted, order_by_index"
   ]
  },
  {
   "cell_type": "code",
   "execution_count": 87,
   "metadata": {},
   "outputs": [],
   "source": [
    "drugall = pd.read_csv('../../big datasets/drug_data_to_use.csv')"
   ]
  },
  {
   "cell_type": "code",
   "execution_count": 88,
   "metadata": {},
   "outputs": [],
   "source": [
    "drug_neg = drugall.iloc[1017:,:]"
   ]
  },
  {
   "cell_type": "code",
   "execution_count": 89,
   "metadata": {},
   "outputs": [],
   "source": [
    "classtox = []\n",
    "\n",
    "for index, row in drug_neg.iterrows():\n",
    "    classtox.append(0)\n",
    "    \n",
    "drug_neg.insert(loc=1, column='Class', value=classtox)"
   ]
  },
  {
   "cell_type": "code",
   "execution_count": 90,
   "metadata": {},
   "outputs": [
    {
     "data": {
      "text/html": [
       "<div>\n",
       "<style scoped>\n",
       "    .dataframe tbody tr th:only-of-type {\n",
       "        vertical-align: middle;\n",
       "    }\n",
       "\n",
       "    .dataframe tbody tr th {\n",
       "        vertical-align: top;\n",
       "    }\n",
       "\n",
       "    .dataframe thead th {\n",
       "        text-align: right;\n",
       "    }\n",
       "</style>\n",
       "<table border=\"1\" class=\"dataframe\">\n",
       "  <thead>\n",
       "    <tr style=\"text-align: right;\">\n",
       "      <th></th>\n",
       "      <th>Unnamed: 0</th>\n",
       "      <th>Class</th>\n",
       "      <th>Unnamed: 0.1</th>\n",
       "      <th>nAcid</th>\n",
       "      <th>ALogP</th>\n",
       "      <th>ALogp2</th>\n",
       "      <th>AMR</th>\n",
       "      <th>nN</th>\n",
       "      <th>nO</th>\n",
       "      <th>nS</th>\n",
       "      <th>...</th>\n",
       "      <th>JGI7</th>\n",
       "      <th>JGI8</th>\n",
       "      <th>JGI9</th>\n",
       "      <th>JGI10</th>\n",
       "      <th>VE1_D</th>\n",
       "      <th>VR1_D</th>\n",
       "      <th>WTPT-1</th>\n",
       "      <th>WTPT-2</th>\n",
       "      <th>WTPT-3</th>\n",
       "      <th>XLogP</th>\n",
       "    </tr>\n",
       "  </thead>\n",
       "  <tbody>\n",
       "    <tr>\n",
       "      <th>1017</th>\n",
       "      <td>0</td>\n",
       "      <td>0</td>\n",
       "      <td>0</td>\n",
       "      <td>0.0</td>\n",
       "      <td>2.4441</td>\n",
       "      <td>5.973625</td>\n",
       "      <td>31.2668</td>\n",
       "      <td>0.0</td>\n",
       "      <td>0.0</td>\n",
       "      <td>0.0</td>\n",
       "      <td>...</td>\n",
       "      <td>0.0</td>\n",
       "      <td>0.0</td>\n",
       "      <td>0.0</td>\n",
       "      <td>0.0</td>\n",
       "      <td>1.082116e-01</td>\n",
       "      <td>1.771200e+01</td>\n",
       "      <td>10.465990</td>\n",
       "      <td>1.744332</td>\n",
       "      <td>9.237437</td>\n",
       "      <td>2.811</td>\n",
       "    </tr>\n",
       "    <tr>\n",
       "      <th>1018</th>\n",
       "      <td>1</td>\n",
       "      <td>0</td>\n",
       "      <td>0</td>\n",
       "      <td>0.0</td>\n",
       "      <td>2.3992</td>\n",
       "      <td>5.756161</td>\n",
       "      <td>30.7638</td>\n",
       "      <td>0.0</td>\n",
       "      <td>0.0</td>\n",
       "      <td>0.0</td>\n",
       "      <td>...</td>\n",
       "      <td>0.0</td>\n",
       "      <td>0.0</td>\n",
       "      <td>0.0</td>\n",
       "      <td>0.0</td>\n",
       "      <td>5.551115e-17</td>\n",
       "      <td>1.531854e+01</td>\n",
       "      <td>10.523646</td>\n",
       "      <td>1.753941</td>\n",
       "      <td>9.301424</td>\n",
       "      <td>2.576</td>\n",
       "    </tr>\n",
       "    <tr>\n",
       "      <th>1019</th>\n",
       "      <td>2</td>\n",
       "      <td>0</td>\n",
       "      <td>0</td>\n",
       "      <td>0.0</td>\n",
       "      <td>1.9555</td>\n",
       "      <td>3.823980</td>\n",
       "      <td>25.7097</td>\n",
       "      <td>0.0</td>\n",
       "      <td>0.0</td>\n",
       "      <td>0.0</td>\n",
       "      <td>...</td>\n",
       "      <td>0.0</td>\n",
       "      <td>0.0</td>\n",
       "      <td>0.0</td>\n",
       "      <td>0.0</td>\n",
       "      <td>6.081016e-02</td>\n",
       "      <td>1.237595e+01</td>\n",
       "      <td>8.696802</td>\n",
       "      <td>1.739360</td>\n",
       "      <td>6.955220</td>\n",
       "      <td>2.158</td>\n",
       "    </tr>\n",
       "    <tr>\n",
       "      <th>1020</th>\n",
       "      <td>3</td>\n",
       "      <td>0</td>\n",
       "      <td>0</td>\n",
       "      <td>0.0</td>\n",
       "      <td>1.5407</td>\n",
       "      <td>2.373756</td>\n",
       "      <td>20.6602</td>\n",
       "      <td>0.0</td>\n",
       "      <td>0.0</td>\n",
       "      <td>0.0</td>\n",
       "      <td>...</td>\n",
       "      <td>0.0</td>\n",
       "      <td>0.0</td>\n",
       "      <td>0.0</td>\n",
       "      <td>0.0</td>\n",
       "      <td>1.110223e-16</td>\n",
       "      <td>3.000000e+06</td>\n",
       "      <td>6.732051</td>\n",
       "      <td>1.683013</td>\n",
       "      <td>4.488034</td>\n",
       "      <td>1.816</td>\n",
       "    </tr>\n",
       "    <tr>\n",
       "      <th>1021</th>\n",
       "      <td>4</td>\n",
       "      <td>0</td>\n",
       "      <td>0</td>\n",
       "      <td>0.0</td>\n",
       "      <td>2.2057</td>\n",
       "      <td>4.865112</td>\n",
       "      <td>29.6691</td>\n",
       "      <td>0.0</td>\n",
       "      <td>0.0</td>\n",
       "      <td>0.0</td>\n",
       "      <td>...</td>\n",
       "      <td>0.0</td>\n",
       "      <td>0.0</td>\n",
       "      <td>0.0</td>\n",
       "      <td>0.0</td>\n",
       "      <td>2.220446e-16</td>\n",
       "      <td>3.000004e+06</td>\n",
       "      <td>10.675851</td>\n",
       "      <td>1.779308</td>\n",
       "      <td>7.109354</td>\n",
       "      <td>2.379</td>\n",
       "    </tr>\n",
       "  </tbody>\n",
       "</table>\n",
       "<p>5 rows × 298 columns</p>\n",
       "</div>"
      ],
      "text/plain": [
       "      Unnamed: 0  Class  Unnamed: 0.1  nAcid   ALogP    ALogp2      AMR   nN  \\\n",
       "1017           0      0             0    0.0  2.4441  5.973625  31.2668  0.0   \n",
       "1018           1      0             0    0.0  2.3992  5.756161  30.7638  0.0   \n",
       "1019           2      0             0    0.0  1.9555  3.823980  25.7097  0.0   \n",
       "1020           3      0             0    0.0  1.5407  2.373756  20.6602  0.0   \n",
       "1021           4      0             0    0.0  2.2057  4.865112  29.6691  0.0   \n",
       "\n",
       "       nO   nS  ...  JGI7  JGI8  JGI9  JGI10         VE1_D         VR1_D  \\\n",
       "1017  0.0  0.0  ...   0.0   0.0   0.0    0.0  1.082116e-01  1.771200e+01   \n",
       "1018  0.0  0.0  ...   0.0   0.0   0.0    0.0  5.551115e-17  1.531854e+01   \n",
       "1019  0.0  0.0  ...   0.0   0.0   0.0    0.0  6.081016e-02  1.237595e+01   \n",
       "1020  0.0  0.0  ...   0.0   0.0   0.0    0.0  1.110223e-16  3.000000e+06   \n",
       "1021  0.0  0.0  ...   0.0   0.0   0.0    0.0  2.220446e-16  3.000004e+06   \n",
       "\n",
       "         WTPT-1    WTPT-2    WTPT-3  XLogP  \n",
       "1017  10.465990  1.744332  9.237437  2.811  \n",
       "1018  10.523646  1.753941  9.301424  2.576  \n",
       "1019   8.696802  1.739360  6.955220  2.158  \n",
       "1020   6.732051  1.683013  4.488034  1.816  \n",
       "1021  10.675851  1.779308  7.109354  2.379  \n",
       "\n",
       "[5 rows x 298 columns]"
      ]
     },
     "execution_count": 90,
     "metadata": {},
     "output_type": "execute_result"
    }
   ],
   "source": [
    "drug_neg.head()"
   ]
  },
  {
   "cell_type": "code",
   "execution_count": 92,
   "metadata": {},
   "outputs": [
    {
     "data": {
      "text/html": [
       "<div>\n",
       "<style scoped>\n",
       "    .dataframe tbody tr th:only-of-type {\n",
       "        vertical-align: middle;\n",
       "    }\n",
       "\n",
       "    .dataframe tbody tr th {\n",
       "        vertical-align: top;\n",
       "    }\n",
       "\n",
       "    .dataframe thead th {\n",
       "        text-align: right;\n",
       "    }\n",
       "</style>\n",
       "<table border=\"1\" class=\"dataframe\">\n",
       "  <thead>\n",
       "    <tr style=\"text-align: right;\">\n",
       "      <th></th>\n",
       "      <th>Unnamed: 0</th>\n",
       "      <th>Unnamed: 0.1</th>\n",
       "      <th>nAcid</th>\n",
       "      <th>ALogP</th>\n",
       "      <th>ALogp2</th>\n",
       "      <th>AMR</th>\n",
       "      <th>nN</th>\n",
       "      <th>nO</th>\n",
       "      <th>nS</th>\n",
       "      <th>nP</th>\n",
       "      <th>...</th>\n",
       "      <th>JGI7</th>\n",
       "      <th>JGI8</th>\n",
       "      <th>JGI9</th>\n",
       "      <th>JGI10</th>\n",
       "      <th>VE1_D</th>\n",
       "      <th>VR1_D</th>\n",
       "      <th>WTPT-1</th>\n",
       "      <th>WTPT-2</th>\n",
       "      <th>WTPT-3</th>\n",
       "      <th>XLogP</th>\n",
       "    </tr>\n",
       "  </thead>\n",
       "  <tbody>\n",
       "    <tr>\n",
       "      <th>0</th>\n",
       "      <td>0</td>\n",
       "      <td>65471</td>\n",
       "      <td>0.0</td>\n",
       "      <td>0.2842</td>\n",
       "      <td>0.080770</td>\n",
       "      <td>86.9785</td>\n",
       "      <td>0.0</td>\n",
       "      <td>4.0</td>\n",
       "      <td>0.0</td>\n",
       "      <td>0.0</td>\n",
       "      <td>...</td>\n",
       "      <td>0.021016</td>\n",
       "      <td>0.016358</td>\n",
       "      <td>0.012000</td>\n",
       "      <td>0.012346</td>\n",
       "      <td>0.009428</td>\n",
       "      <td>230.520837</td>\n",
       "      <td>47.495419</td>\n",
       "      <td>2.065018</td>\n",
       "      <td>11.316324</td>\n",
       "      <td>2.665</td>\n",
       "    </tr>\n",
       "    <tr>\n",
       "      <th>1</th>\n",
       "      <td>1</td>\n",
       "      <td>13684</td>\n",
       "      <td>0.0</td>\n",
       "      <td>-0.6801</td>\n",
       "      <td>0.462536</td>\n",
       "      <td>94.5871</td>\n",
       "      <td>2.0</td>\n",
       "      <td>2.0</td>\n",
       "      <td>0.0</td>\n",
       "      <td>0.0</td>\n",
       "      <td>...</td>\n",
       "      <td>0.011177</td>\n",
       "      <td>0.018664</td>\n",
       "      <td>0.007760</td>\n",
       "      <td>0.010000</td>\n",
       "      <td>0.163765</td>\n",
       "      <td>250.398458</td>\n",
       "      <td>47.828913</td>\n",
       "      <td>2.079518</td>\n",
       "      <td>13.788202</td>\n",
       "      <td>0.939</td>\n",
       "    </tr>\n",
       "    <tr>\n",
       "      <th>2</th>\n",
       "      <td>2</td>\n",
       "      <td>7909</td>\n",
       "      <td>0.0</td>\n",
       "      <td>1.0460</td>\n",
       "      <td>1.094116</td>\n",
       "      <td>87.4012</td>\n",
       "      <td>0.0</td>\n",
       "      <td>4.0</td>\n",
       "      <td>0.0</td>\n",
       "      <td>0.0</td>\n",
       "      <td>...</td>\n",
       "      <td>0.019206</td>\n",
       "      <td>0.008902</td>\n",
       "      <td>0.010859</td>\n",
       "      <td>0.013740</td>\n",
       "      <td>0.124083</td>\n",
       "      <td>1645.934186</td>\n",
       "      <td>43.058016</td>\n",
       "      <td>2.050382</td>\n",
       "      <td>11.246419</td>\n",
       "      <td>2.072</td>\n",
       "    </tr>\n",
       "    <tr>\n",
       "      <th>3</th>\n",
       "      <td>3</td>\n",
       "      <td>3936</td>\n",
       "      <td>0.0</td>\n",
       "      <td>-0.3414</td>\n",
       "      <td>0.116554</td>\n",
       "      <td>64.9254</td>\n",
       "      <td>0.0</td>\n",
       "      <td>7.0</td>\n",
       "      <td>0.0</td>\n",
       "      <td>0.0</td>\n",
       "      <td>...</td>\n",
       "      <td>0.020991</td>\n",
       "      <td>0.008724</td>\n",
       "      <td>0.013333</td>\n",
       "      <td>0.000000</td>\n",
       "      <td>0.169516</td>\n",
       "      <td>179.576794</td>\n",
       "      <td>36.989542</td>\n",
       "      <td>1.946818</td>\n",
       "      <td>18.859169</td>\n",
       "      <td>1.052</td>\n",
       "    </tr>\n",
       "    <tr>\n",
       "      <th>4</th>\n",
       "      <td>4</td>\n",
       "      <td>7060</td>\n",
       "      <td>0.0</td>\n",
       "      <td>1.6169</td>\n",
       "      <td>2.614366</td>\n",
       "      <td>70.6318</td>\n",
       "      <td>1.0</td>\n",
       "      <td>4.0</td>\n",
       "      <td>0.0</td>\n",
       "      <td>0.0</td>\n",
       "      <td>...</td>\n",
       "      <td>0.024706</td>\n",
       "      <td>0.013454</td>\n",
       "      <td>0.009896</td>\n",
       "      <td>0.012346</td>\n",
       "      <td>0.147100</td>\n",
       "      <td>143.314817</td>\n",
       "      <td>36.802051</td>\n",
       "      <td>1.936950</td>\n",
       "      <td>13.302624</td>\n",
       "      <td>1.450</td>\n",
       "    </tr>\n",
       "  </tbody>\n",
       "</table>\n",
       "<p>5 rows × 297 columns</p>\n",
       "</div>"
      ],
      "text/plain": [
       "   Unnamed: 0  Unnamed: 0.1  nAcid   ALogP    ALogp2      AMR   nN   nO   nS  \\\n",
       "0           0         65471    0.0  0.2842  0.080770  86.9785  0.0  4.0  0.0   \n",
       "1           1         13684    0.0 -0.6801  0.462536  94.5871  2.0  2.0  0.0   \n",
       "2           2          7909    0.0  1.0460  1.094116  87.4012  0.0  4.0  0.0   \n",
       "3           3          3936    0.0 -0.3414  0.116554  64.9254  0.0  7.0  0.0   \n",
       "4           4          7060    0.0  1.6169  2.614366  70.6318  1.0  4.0  0.0   \n",
       "\n",
       "    nP  ...      JGI7      JGI8      JGI9     JGI10     VE1_D        VR1_D  \\\n",
       "0  0.0  ...  0.021016  0.016358  0.012000  0.012346  0.009428   230.520837   \n",
       "1  0.0  ...  0.011177  0.018664  0.007760  0.010000  0.163765   250.398458   \n",
       "2  0.0  ...  0.019206  0.008902  0.010859  0.013740  0.124083  1645.934186   \n",
       "3  0.0  ...  0.020991  0.008724  0.013333  0.000000  0.169516   179.576794   \n",
       "4  0.0  ...  0.024706  0.013454  0.009896  0.012346  0.147100   143.314817   \n",
       "\n",
       "      WTPT-1    WTPT-2     WTPT-3  XLogP  \n",
       "0  47.495419  2.065018  11.316324  2.665  \n",
       "1  47.828913  2.079518  13.788202  0.939  \n",
       "2  43.058016  2.050382  11.246419  2.072  \n",
       "3  36.989542  1.946818  18.859169  1.052  \n",
       "4  36.802051  1.936950  13.302624  1.450  \n",
       "\n",
       "[5 rows x 297 columns]"
      ]
     },
     "execution_count": 92,
     "metadata": {},
     "output_type": "execute_result"
    }
   ],
   "source": [
    "drug_pos = drugall.iloc[:1017,:]\n",
    "\n",
    "\n",
    "drug_pos.head()"
   ]
  },
  {
   "cell_type": "code",
   "execution_count": 93,
   "metadata": {},
   "outputs": [],
   "source": [
    "classdrug = []\n",
    "\n",
    "for index, row in drug_pos.iterrows():\n",
    "    classdrug.append(1)\n",
    "    \n",
    "drug_pos.insert(loc=1, column='Class', value=classdrug)"
   ]
  },
  {
   "cell_type": "code",
   "execution_count": 94,
   "metadata": {},
   "outputs": [
    {
     "data": {
      "text/html": [
       "<div>\n",
       "<style scoped>\n",
       "    .dataframe tbody tr th:only-of-type {\n",
       "        vertical-align: middle;\n",
       "    }\n",
       "\n",
       "    .dataframe tbody tr th {\n",
       "        vertical-align: top;\n",
       "    }\n",
       "\n",
       "    .dataframe thead th {\n",
       "        text-align: right;\n",
       "    }\n",
       "</style>\n",
       "<table border=\"1\" class=\"dataframe\">\n",
       "  <thead>\n",
       "    <tr style=\"text-align: right;\">\n",
       "      <th></th>\n",
       "      <th>Unnamed: 0</th>\n",
       "      <th>Class</th>\n",
       "      <th>Unnamed: 0.1</th>\n",
       "      <th>nAcid</th>\n",
       "      <th>ALogP</th>\n",
       "      <th>ALogp2</th>\n",
       "      <th>AMR</th>\n",
       "      <th>nN</th>\n",
       "      <th>nO</th>\n",
       "      <th>nS</th>\n",
       "      <th>...</th>\n",
       "      <th>JGI7</th>\n",
       "      <th>JGI8</th>\n",
       "      <th>JGI9</th>\n",
       "      <th>JGI10</th>\n",
       "      <th>VE1_D</th>\n",
       "      <th>VR1_D</th>\n",
       "      <th>WTPT-1</th>\n",
       "      <th>WTPT-2</th>\n",
       "      <th>WTPT-3</th>\n",
       "      <th>XLogP</th>\n",
       "    </tr>\n",
       "  </thead>\n",
       "  <tbody>\n",
       "    <tr>\n",
       "      <th>0</th>\n",
       "      <td>0</td>\n",
       "      <td>1</td>\n",
       "      <td>65471</td>\n",
       "      <td>0.0</td>\n",
       "      <td>0.2842</td>\n",
       "      <td>0.080770</td>\n",
       "      <td>86.9785</td>\n",
       "      <td>0.0</td>\n",
       "      <td>4.0</td>\n",
       "      <td>0.0</td>\n",
       "      <td>...</td>\n",
       "      <td>0.021016</td>\n",
       "      <td>0.016358</td>\n",
       "      <td>0.012000</td>\n",
       "      <td>0.012346</td>\n",
       "      <td>0.009428</td>\n",
       "      <td>230.520837</td>\n",
       "      <td>47.495419</td>\n",
       "      <td>2.065018</td>\n",
       "      <td>11.316324</td>\n",
       "      <td>2.665</td>\n",
       "    </tr>\n",
       "    <tr>\n",
       "      <th>1</th>\n",
       "      <td>1</td>\n",
       "      <td>1</td>\n",
       "      <td>13684</td>\n",
       "      <td>0.0</td>\n",
       "      <td>-0.6801</td>\n",
       "      <td>0.462536</td>\n",
       "      <td>94.5871</td>\n",
       "      <td>2.0</td>\n",
       "      <td>2.0</td>\n",
       "      <td>0.0</td>\n",
       "      <td>...</td>\n",
       "      <td>0.011177</td>\n",
       "      <td>0.018664</td>\n",
       "      <td>0.007760</td>\n",
       "      <td>0.010000</td>\n",
       "      <td>0.163765</td>\n",
       "      <td>250.398458</td>\n",
       "      <td>47.828913</td>\n",
       "      <td>2.079518</td>\n",
       "      <td>13.788202</td>\n",
       "      <td>0.939</td>\n",
       "    </tr>\n",
       "    <tr>\n",
       "      <th>2</th>\n",
       "      <td>2</td>\n",
       "      <td>1</td>\n",
       "      <td>7909</td>\n",
       "      <td>0.0</td>\n",
       "      <td>1.0460</td>\n",
       "      <td>1.094116</td>\n",
       "      <td>87.4012</td>\n",
       "      <td>0.0</td>\n",
       "      <td>4.0</td>\n",
       "      <td>0.0</td>\n",
       "      <td>...</td>\n",
       "      <td>0.019206</td>\n",
       "      <td>0.008902</td>\n",
       "      <td>0.010859</td>\n",
       "      <td>0.013740</td>\n",
       "      <td>0.124083</td>\n",
       "      <td>1645.934186</td>\n",
       "      <td>43.058016</td>\n",
       "      <td>2.050382</td>\n",
       "      <td>11.246419</td>\n",
       "      <td>2.072</td>\n",
       "    </tr>\n",
       "    <tr>\n",
       "      <th>3</th>\n",
       "      <td>3</td>\n",
       "      <td>1</td>\n",
       "      <td>3936</td>\n",
       "      <td>0.0</td>\n",
       "      <td>-0.3414</td>\n",
       "      <td>0.116554</td>\n",
       "      <td>64.9254</td>\n",
       "      <td>0.0</td>\n",
       "      <td>7.0</td>\n",
       "      <td>0.0</td>\n",
       "      <td>...</td>\n",
       "      <td>0.020991</td>\n",
       "      <td>0.008724</td>\n",
       "      <td>0.013333</td>\n",
       "      <td>0.000000</td>\n",
       "      <td>0.169516</td>\n",
       "      <td>179.576794</td>\n",
       "      <td>36.989542</td>\n",
       "      <td>1.946818</td>\n",
       "      <td>18.859169</td>\n",
       "      <td>1.052</td>\n",
       "    </tr>\n",
       "    <tr>\n",
       "      <th>4</th>\n",
       "      <td>4</td>\n",
       "      <td>1</td>\n",
       "      <td>7060</td>\n",
       "      <td>0.0</td>\n",
       "      <td>1.6169</td>\n",
       "      <td>2.614366</td>\n",
       "      <td>70.6318</td>\n",
       "      <td>1.0</td>\n",
       "      <td>4.0</td>\n",
       "      <td>0.0</td>\n",
       "      <td>...</td>\n",
       "      <td>0.024706</td>\n",
       "      <td>0.013454</td>\n",
       "      <td>0.009896</td>\n",
       "      <td>0.012346</td>\n",
       "      <td>0.147100</td>\n",
       "      <td>143.314817</td>\n",
       "      <td>36.802051</td>\n",
       "      <td>1.936950</td>\n",
       "      <td>13.302624</td>\n",
       "      <td>1.450</td>\n",
       "    </tr>\n",
       "  </tbody>\n",
       "</table>\n",
       "<p>5 rows × 298 columns</p>\n",
       "</div>"
      ],
      "text/plain": [
       "   Unnamed: 0  Class  Unnamed: 0.1  nAcid   ALogP    ALogp2      AMR   nN  \\\n",
       "0           0      1         65471    0.0  0.2842  0.080770  86.9785  0.0   \n",
       "1           1      1         13684    0.0 -0.6801  0.462536  94.5871  2.0   \n",
       "2           2      1          7909    0.0  1.0460  1.094116  87.4012  0.0   \n",
       "3           3      1          3936    0.0 -0.3414  0.116554  64.9254  0.0   \n",
       "4           4      1          7060    0.0  1.6169  2.614366  70.6318  1.0   \n",
       "\n",
       "    nO   nS  ...      JGI7      JGI8      JGI9     JGI10     VE1_D  \\\n",
       "0  4.0  0.0  ...  0.021016  0.016358  0.012000  0.012346  0.009428   \n",
       "1  2.0  0.0  ...  0.011177  0.018664  0.007760  0.010000  0.163765   \n",
       "2  4.0  0.0  ...  0.019206  0.008902  0.010859  0.013740  0.124083   \n",
       "3  7.0  0.0  ...  0.020991  0.008724  0.013333  0.000000  0.169516   \n",
       "4  4.0  0.0  ...  0.024706  0.013454  0.009896  0.012346  0.147100   \n",
       "\n",
       "         VR1_D     WTPT-1    WTPT-2     WTPT-3  XLogP  \n",
       "0   230.520837  47.495419  2.065018  11.316324  2.665  \n",
       "1   250.398458  47.828913  2.079518  13.788202  0.939  \n",
       "2  1645.934186  43.058016  2.050382  11.246419  2.072  \n",
       "3   179.576794  36.989542  1.946818  18.859169  1.052  \n",
       "4   143.314817  36.802051  1.936950  13.302624  1.450  \n",
       "\n",
       "[5 rows x 298 columns]"
      ]
     },
     "execution_count": 94,
     "metadata": {},
     "output_type": "execute_result"
    }
   ],
   "source": [
    "drug_pos.head()"
   ]
  },
  {
   "cell_type": "code",
   "execution_count": 95,
   "metadata": {},
   "outputs": [],
   "source": [
    "drugall = drug_pos.append(drug_neg)"
   ]
  },
  {
   "cell_type": "code",
   "execution_count": 96,
   "metadata": {},
   "outputs": [],
   "source": [
    "drugall.to_csv('../../big datasets/drugall_with_classes.csv')"
   ]
  },
  {
   "cell_type": "code",
   "execution_count": 16,
   "metadata": {},
   "outputs": [],
   "source": [
    "from sklearn.preprocessing import StandardScaler\n",
    "from sklearn.model_selection import train_test_split\n",
    "from imblearn.over_sampling import SMOTE"
   ]
  },
  {
   "cell_type": "code",
   "execution_count": null,
   "metadata": {},
   "outputs": [],
   "source": [
    "class FakeSampler(BaseSampler):\n",
    "\n",
    "    _sampling_type = 'bypass'\n",
    "\n",
    "    def _fit_resample(self, X, y):\n",
    "        return X, y\n",
    "\n",
    "\n",
    "fig, ((ax1, ax2), (ax3, ax4)) = plt.subplots(2, 2, figsize=(15, 15))\n",
    "X, y = create_dataset(n_samples=10000, weights=(0.01, 0.05, 0.94))\n",
    "sampler = FakeSampler()\n",
    "clf = make_pipeline(sampler, LinearSVC())\n",
    "plot_resampling(X, y, sampler, ax1)\n",
    "ax1.set_title('Original data - y={}'.format(Counter(y)))\n",
    "\n",
    "ax_arr = (ax2, ax3, ax4)\n",
    "for ax, sampler in zip(ax_arr, (RandomOverSampler(random_state=0),\n",
    "                                SMOTE(random_state=0),\n",
    "                                ADASYN(random_state=0))):\n",
    "    clf = make_pipeline(sampler, LinearSVC())\n",
    "    clf.fit(X, y)\n",
    "    plot_resampling(X, y, sampler, ax)\n",
    "    ax.set_title('Resampling using {}'.format(sampler.__class__.__name__))\n",
    "fig.tight_layout()"
   ]
  },
  {
   "cell_type": "code",
   "execution_count": null,
   "metadata": {},
   "outputs": [],
   "source": []
  },
  {
   "cell_type": "code",
   "execution_count": null,
   "metadata": {},
   "outputs": [],
   "source": []
  },
  {
   "cell_type": "code",
   "execution_count": null,
   "metadata": {},
   "outputs": [],
   "source": []
  },
  {
   "cell_type": "code",
   "execution_count": null,
   "metadata": {},
   "outputs": [],
   "source": []
  },
  {
   "cell_type": "code",
   "execution_count": null,
   "metadata": {},
   "outputs": [],
   "source": []
  },
  {
   "cell_type": "code",
   "execution_count": null,
   "metadata": {},
   "outputs": [],
   "source": []
  },
  {
   "cell_type": "code",
   "execution_count": 97,
   "metadata": {},
   "outputs": [],
   "source": [
    "drug_pos_features = drug_pos.iloc[:,2:]\n",
    "drug_pos_features.head()\n",
    "drug_pos_class = drug_pos['Class']\n",
    "\n",
    "drug_neg_features = drug_neg.iloc[:,2:]\n",
    "drug_neg_class = drug_neg['Class']"
   ]
  },
  {
   "cell_type": "markdown",
   "metadata": {},
   "source": [
    "from sklearn.model_selection import train_test_split\n",
    "from imblearn.over_sampling import SMOTE"
   ]
  },
  {
   "cell_type": "code",
   "execution_count": 19,
   "metadata": {},
   "outputs": [],
   "source": [
    "def encode(series): \n",
    "    return pd.get_dummies(series.astype(str))"
   ]
  },
  {
   "cell_type": "code",
   "execution_count": 115,
   "metadata": {},
   "outputs": [],
   "source": [
    "x_train_neg, x_test_neg, y_train_neg, y_test_neg = train_test_split(drug_neg_features, drug_neg_class, test_size=0.2, random_state=12)"
   ]
  },
  {
   "cell_type": "code",
   "execution_count": 116,
   "metadata": {},
   "outputs": [],
   "source": [
    "x_train, x_test, y_train, y_test = train_test_split(drug_pos_features, drug_pos_class, test_size=0.2, random_state=12)"
   ]
  },
  {
   "cell_type": "code",
   "execution_count": 117,
   "metadata": {},
   "outputs": [],
   "source": [
    "x_train = x_train.append(x_train_neg)\n",
    "x_test = x_test.append(x_test_neg)\n",
    "y_train = y_train.append(y_train_neg)\n",
    "y_test = y_test.append(y_test_neg)\n",
    "all_train = x_train.join(y_train)\n",
    "all_test = x_test.join(y_test)"
   ]
  },
  {
   "cell_type": "code",
   "execution_count": 76,
   "metadata": {},
   "outputs": [
    {
     "data": {
      "text/plain": [
       "True"
      ]
     },
     "execution_count": 76,
     "metadata": {},
     "output_type": "execute_result"
    }
   ],
   "source": [
    "len(y_test) == len(x_test)\n",
    "len(x_train) == len(y_train)"
   ]
  },
  {
   "cell_type": "markdown",
   "metadata": {},
   "source": [
    "y_train = encode(y_train) # one hot encode the class data\n",
    "y_test = encode(y_test)"
   ]
  },
  {
   "cell_type": "markdown",
   "metadata": {},
   "source": [
    "x_test.astype('float64')\n",
    "x_test.fillna(0)\n",
    "\n",
    "x_train.astype('float64')\n",
    "x_train.fillna(0)\n",
    "\n",
    "\n",
    "#dfs = (x_test_neg, x_train_neg)\n",
    "#for df in dfs:\n",
    "#    df.replace([np.inf, -np.inf], np.nan)\n",
    "#    df.fillna(0)"
   ]
  },
  {
   "cell_type": "markdown",
   "metadata": {},
   "source": [
    "dfs = (x_test_neg, x_train_neg)\n",
    "for df in dfs:\n",
    "    df = pd.DataFrame(df)\n",
    "    df.reset_index()\n",
    "    df.dropna"
   ]
  },
  {
   "cell_type": "markdown",
   "metadata": {},
   "source": [
    "x_test = pd.DataFrame(x_test.replace([np.inf, -np.inf], np.nan))\n",
    "x_test.fillna(0)\n",
    "x_train = pd.DataFrame(x_train.replace([np.inf, -np.inf], np.nan))\n",
    "x_train.fillna(0)\n"
   ]
  },
  {
   "cell_type": "code",
   "execution_count": 43,
   "metadata": {},
   "outputs": [
    {
     "data": {
      "text/plain": [
       "pandas.core.frame.DataFrame"
      ]
     },
     "execution_count": 43,
     "metadata": {},
     "output_type": "execute_result"
    }
   ],
   "source": [
    "type(x_train)"
   ]
  },
  {
   "cell_type": "code",
   "execution_count": 101,
   "metadata": {},
   "outputs": [
    {
     "name": "stdout",
     "output_type": "stream",
     "text": [
      "<class 'pandas.core.frame.DataFrame'>\n",
      "Int64Index: 1043 entries, 372 to 1172\n",
      "Columns: 297 entries, Unnamed: 0.1 to Class\n",
      "dtypes: float64(278), int64(2), object(17)\n",
      "memory usage: 2.4+ MB\n"
     ]
    }
   ],
   "source": [
    "all_train.info()"
   ]
  },
  {
   "cell_type": "markdown",
   "metadata": {},
   "source": [
    "x_train.drop(x_train.select_dtypes(['object']), inplace=True, axis=1)\n",
    "x_train.astype('float64')\n",
    "x_train.drop(x_train.select_dtypes(['int64']), inplace=True, axis=1)\n",
    "\n",
    "x_test.drop(x_test.select_dtypes(['object']), inplace=True, axis=1)\n",
    "x_test.astype('float64')\n",
    "x_test.drop(x_test.select_dtypes(['int64']), inplace=True, axis=1)\n",
    "\n",
    "\n",
    "\n",
    "x_train.info(), x_test.info()"
   ]
  },
  {
   "cell_type": "code",
   "execution_count": 119,
   "metadata": {},
   "outputs": [
    {
     "name": "stdout",
     "output_type": "stream",
     "text": [
      "<class 'pandas.core.frame.DataFrame'>\n",
      "Int64Index: 1043 entries, 372 to 1172\n",
      "Columns: 280 entries, Unnamed: 0.1 to Class\n",
      "dtypes: float64(278), int64(2)\n",
      "memory usage: 2.3 MB\n"
     ]
    },
    {
     "data": {
      "text/plain": [
       "(     Unnamed: 0.1  nAcid   ALogP    ALogp2       AMR   nN   nO   nS   nP   nF  \\\n",
       " 372         55003    0.0 -2.0083  4.033269   83.5689  2.0  5.0  0.0  0.0  1.0   \n",
       " 360         52834    0.0 -1.5431  2.381158   98.3173  3.0  4.0  1.0  0.0  0.0   \n",
       " 799          9091    0.0  0.1530  0.023409   98.4411  2.0  3.0  0.0  0.0  0.0   \n",
       " 263         82999    0.0 -3.0456  9.275679  102.8853  5.0  1.0  0.0  0.0  0.0   \n",
       " 425         76285    0.0 -0.5105  0.260610   93.8320  2.0  3.0  0.0  0.0  0.0   \n",
       " \n",
       "      ...      JGI8      JGI9     JGI10     VE1_D       VR1_D     WTPT-1  \\\n",
       " 372  ...  0.011339  0.009392  0.005648  0.004290  252.735571  49.913289   \n",
       " 360  ...  0.013213  0.009712  0.008328  0.158715  300.918715  52.817771   \n",
       " 799  ...  0.008273  0.009643  0.005663  0.066221  368.184630  49.516759   \n",
       " 263  ...  0.005603  0.008608  0.005493  0.083425  344.368465  55.858018   \n",
       " 425  ...  0.019596  0.013438  0.013555  0.230550  200.220486  49.422468   \n",
       " \n",
       "        WTPT-2     WTPT-3  XLogP  Class  \n",
       " 372  1.996532  21.705622 -0.684      1  \n",
       " 360  2.031453  22.609031  1.002      1  \n",
       " 799  2.063198  14.479043  0.926      1  \n",
       " 263  2.068815  18.823231  0.074      1  \n",
       " 425  2.059269  15.418395  0.506      1  \n",
       " \n",
       " [5 rows x 280 columns], None)"
      ]
     },
     "execution_count": 119,
     "metadata": {},
     "output_type": "execute_result"
    }
   ],
   "source": [
    "all_train.drop(all_train.select_dtypes(['object']), inplace=True, axis=1)\n",
    "all_train.astype('float64')\n",
    "\n",
    "all_test.drop(all_test.select_dtypes(['object']), inplace=True, axis=1)\n",
    "all_test.astype('float64')\n",
    "\n",
    "all_train.head(), all_train.info()"
   ]
  },
  {
   "cell_type": "code",
   "execution_count": 120,
   "metadata": {},
   "outputs": [],
   "source": [
    "with pd.option_context('mode.use_inf_as_null', True):\n",
    "    all_train = all_train.dropna(how='all', axis=1)\n",
    "    all_test = all_test.dropna(how='all',axis=1)"
   ]
  },
  {
   "cell_type": "code",
   "execution_count": 121,
   "metadata": {},
   "outputs": [],
   "source": [
    "all_train = all_train[np.isfinite(all_train).all(1)]\n",
    "all_test = all_test[np.isfinite(all_test).all(1)]"
   ]
  },
  {
   "cell_type": "code",
   "execution_count": 134,
   "metadata": {},
   "outputs": [
    {
     "data": {
      "text/plain": [
       "True"
      ]
     },
     "execution_count": 134,
     "metadata": {},
     "output_type": "execute_result"
    }
   ],
   "source": [
    "all_train.shape[1] == all_test.shape[1]"
   ]
  },
  {
   "cell_type": "code",
   "execution_count": 126,
   "metadata": {},
   "outputs": [
    {
     "data": {
      "text/html": [
       "<div>\n",
       "<style scoped>\n",
       "    .dataframe tbody tr th:only-of-type {\n",
       "        vertical-align: middle;\n",
       "    }\n",
       "\n",
       "    .dataframe tbody tr th {\n",
       "        vertical-align: top;\n",
       "    }\n",
       "\n",
       "    .dataframe thead th {\n",
       "        text-align: right;\n",
       "    }\n",
       "</style>\n",
       "<table border=\"1\" class=\"dataframe\">\n",
       "  <thead>\n",
       "    <tr style=\"text-align: right;\">\n",
       "      <th></th>\n",
       "      <th>Unnamed: 0.1</th>\n",
       "      <th>nAcid</th>\n",
       "      <th>ALogP</th>\n",
       "      <th>ALogp2</th>\n",
       "      <th>AMR</th>\n",
       "      <th>nN</th>\n",
       "      <th>nO</th>\n",
       "      <th>nS</th>\n",
       "      <th>nP</th>\n",
       "      <th>nF</th>\n",
       "      <th>...</th>\n",
       "      <th>JGI8</th>\n",
       "      <th>JGI9</th>\n",
       "      <th>JGI10</th>\n",
       "      <th>VE1_D</th>\n",
       "      <th>VR1_D</th>\n",
       "      <th>WTPT-1</th>\n",
       "      <th>WTPT-2</th>\n",
       "      <th>WTPT-3</th>\n",
       "      <th>XLogP</th>\n",
       "      <th>Class</th>\n",
       "    </tr>\n",
       "  </thead>\n",
       "  <tbody>\n",
       "    <tr>\n",
       "      <th>372</th>\n",
       "      <td>55003</td>\n",
       "      <td>0.0</td>\n",
       "      <td>-2.0083</td>\n",
       "      <td>4.033269</td>\n",
       "      <td>83.5689</td>\n",
       "      <td>2.0</td>\n",
       "      <td>5.0</td>\n",
       "      <td>0.0</td>\n",
       "      <td>0.0</td>\n",
       "      <td>1.0</td>\n",
       "      <td>...</td>\n",
       "      <td>0.011339</td>\n",
       "      <td>0.009392</td>\n",
       "      <td>0.005648</td>\n",
       "      <td>0.004290</td>\n",
       "      <td>252.735571</td>\n",
       "      <td>49.913289</td>\n",
       "      <td>1.996532</td>\n",
       "      <td>21.705622</td>\n",
       "      <td>-0.684</td>\n",
       "      <td>1</td>\n",
       "    </tr>\n",
       "    <tr>\n",
       "      <th>360</th>\n",
       "      <td>52834</td>\n",
       "      <td>0.0</td>\n",
       "      <td>-1.5431</td>\n",
       "      <td>2.381158</td>\n",
       "      <td>98.3173</td>\n",
       "      <td>3.0</td>\n",
       "      <td>4.0</td>\n",
       "      <td>1.0</td>\n",
       "      <td>0.0</td>\n",
       "      <td>0.0</td>\n",
       "      <td>...</td>\n",
       "      <td>0.013213</td>\n",
       "      <td>0.009712</td>\n",
       "      <td>0.008328</td>\n",
       "      <td>0.158715</td>\n",
       "      <td>300.918715</td>\n",
       "      <td>52.817771</td>\n",
       "      <td>2.031453</td>\n",
       "      <td>22.609031</td>\n",
       "      <td>1.002</td>\n",
       "      <td>1</td>\n",
       "    </tr>\n",
       "    <tr>\n",
       "      <th>799</th>\n",
       "      <td>9091</td>\n",
       "      <td>0.0</td>\n",
       "      <td>0.1530</td>\n",
       "      <td>0.023409</td>\n",
       "      <td>98.4411</td>\n",
       "      <td>2.0</td>\n",
       "      <td>3.0</td>\n",
       "      <td>0.0</td>\n",
       "      <td>0.0</td>\n",
       "      <td>0.0</td>\n",
       "      <td>...</td>\n",
       "      <td>0.008273</td>\n",
       "      <td>0.009643</td>\n",
       "      <td>0.005663</td>\n",
       "      <td>0.066221</td>\n",
       "      <td>368.184630</td>\n",
       "      <td>49.516759</td>\n",
       "      <td>2.063198</td>\n",
       "      <td>14.479043</td>\n",
       "      <td>0.926</td>\n",
       "      <td>1</td>\n",
       "    </tr>\n",
       "    <tr>\n",
       "      <th>263</th>\n",
       "      <td>82999</td>\n",
       "      <td>0.0</td>\n",
       "      <td>-3.0456</td>\n",
       "      <td>9.275679</td>\n",
       "      <td>102.8853</td>\n",
       "      <td>5.0</td>\n",
       "      <td>1.0</td>\n",
       "      <td>0.0</td>\n",
       "      <td>0.0</td>\n",
       "      <td>0.0</td>\n",
       "      <td>...</td>\n",
       "      <td>0.005603</td>\n",
       "      <td>0.008608</td>\n",
       "      <td>0.005493</td>\n",
       "      <td>0.083425</td>\n",
       "      <td>344.368465</td>\n",
       "      <td>55.858018</td>\n",
       "      <td>2.068815</td>\n",
       "      <td>18.823231</td>\n",
       "      <td>0.074</td>\n",
       "      <td>1</td>\n",
       "    </tr>\n",
       "    <tr>\n",
       "      <th>425</th>\n",
       "      <td>76285</td>\n",
       "      <td>0.0</td>\n",
       "      <td>-0.5105</td>\n",
       "      <td>0.260610</td>\n",
       "      <td>93.8320</td>\n",
       "      <td>2.0</td>\n",
       "      <td>3.0</td>\n",
       "      <td>0.0</td>\n",
       "      <td>0.0</td>\n",
       "      <td>0.0</td>\n",
       "      <td>...</td>\n",
       "      <td>0.019596</td>\n",
       "      <td>0.013438</td>\n",
       "      <td>0.013555</td>\n",
       "      <td>0.230550</td>\n",
       "      <td>200.220486</td>\n",
       "      <td>49.422468</td>\n",
       "      <td>2.059269</td>\n",
       "      <td>15.418395</td>\n",
       "      <td>0.506</td>\n",
       "      <td>1</td>\n",
       "    </tr>\n",
       "  </tbody>\n",
       "</table>\n",
       "<p>5 rows × 280 columns</p>\n",
       "</div>"
      ],
      "text/plain": [
       "     Unnamed: 0.1  nAcid   ALogP    ALogp2       AMR   nN   nO   nS   nP   nF  \\\n",
       "372         55003    0.0 -2.0083  4.033269   83.5689  2.0  5.0  0.0  0.0  1.0   \n",
       "360         52834    0.0 -1.5431  2.381158   98.3173  3.0  4.0  1.0  0.0  0.0   \n",
       "799          9091    0.0  0.1530  0.023409   98.4411  2.0  3.0  0.0  0.0  0.0   \n",
       "263         82999    0.0 -3.0456  9.275679  102.8853  5.0  1.0  0.0  0.0  0.0   \n",
       "425         76285    0.0 -0.5105  0.260610   93.8320  2.0  3.0  0.0  0.0  0.0   \n",
       "\n",
       "     ...      JGI8      JGI9     JGI10     VE1_D       VR1_D     WTPT-1  \\\n",
       "372  ...  0.011339  0.009392  0.005648  0.004290  252.735571  49.913289   \n",
       "360  ...  0.013213  0.009712  0.008328  0.158715  300.918715  52.817771   \n",
       "799  ...  0.008273  0.009643  0.005663  0.066221  368.184630  49.516759   \n",
       "263  ...  0.005603  0.008608  0.005493  0.083425  344.368465  55.858018   \n",
       "425  ...  0.019596  0.013438  0.013555  0.230550  200.220486  49.422468   \n",
       "\n",
       "       WTPT-2     WTPT-3  XLogP  Class  \n",
       "372  1.996532  21.705622 -0.684      1  \n",
       "360  2.031453  22.609031  1.002      1  \n",
       "799  2.063198  14.479043  0.926      1  \n",
       "263  2.068815  18.823231  0.074      1  \n",
       "425  2.059269  15.418395  0.506      1  \n",
       "\n",
       "[5 rows x 280 columns]"
      ]
     },
     "execution_count": 126,
     "metadata": {},
     "output_type": "execute_result"
    }
   ],
   "source": [
    "all_train.head()"
   ]
  },
  {
   "cell_type": "code",
   "execution_count": 127,
   "metadata": {},
   "outputs": [],
   "source": [
    "y_train = all_train['Class']\n",
    "x_train = all_train.drop(['Class'], axis=1)\n",
    "\n",
    "x_test = all_test.drop(['Class'], axis=1)\n",
    "y_test = all_test['Class']"
   ]
  },
  {
   "cell_type": "code",
   "execution_count": 128,
   "metadata": {},
   "outputs": [
    {
     "name": "stderr",
     "output_type": "stream",
     "text": [
      "C:\\Users\\ellie\\Miniconda3\\lib\\site-packages\\sklearn\\preprocessing\\data.py:645: DataConversionWarning: Data with input dtype int64, float64 were all converted to float64 by StandardScaler.\n",
      "  return self.partial_fit(X, y)\n",
      "C:\\Users\\ellie\\Miniconda3\\lib\\site-packages\\ipykernel_launcher.py:3: DataConversionWarning: Data with input dtype int64, float64 were all converted to float64 by StandardScaler.\n",
      "  This is separate from the ipykernel package so we can avoid doing imports until\n",
      "C:\\Users\\ellie\\Miniconda3\\lib\\site-packages\\sklearn\\preprocessing\\data.py:645: DataConversionWarning: Data with input dtype int64, float64 were all converted to float64 by StandardScaler.\n",
      "  return self.partial_fit(X, y)\n",
      "C:\\Users\\ellie\\Miniconda3\\lib\\site-packages\\ipykernel_launcher.py:5: DataConversionWarning: Data with input dtype int64, float64 were all converted to float64 by StandardScaler.\n",
      "  \"\"\"\n"
     ]
    }
   ],
   "source": [
    "from sklearn.preprocessing import StandardScaler\n",
    "xscaler = StandardScaler().fit(x_train)\n",
    "x_train = xscaler.transform(x_train)\n",
    "testscaler = StandardScaler().fit(x_test)\n",
    "x_test = testscaler.transform(x_test)"
   ]
  },
  {
   "cell_type": "code",
   "execution_count": 129,
   "metadata": {},
   "outputs": [],
   "source": [
    "sm = SMOTE(random_state=2)\n",
    "x_train_res, y_train_res = sm.fit_resample(x_train, y_train)"
   ]
  },
  {
   "cell_type": "code",
   "execution_count": 130,
   "metadata": {},
   "outputs": [
    {
     "data": {
      "text/plain": [
       "990"
      ]
     },
     "execution_count": 130,
     "metadata": {},
     "output_type": "execute_result"
    }
   ],
   "source": [
    "len(x_train)"
   ]
  },
  {
   "cell_type": "code",
   "execution_count": 131,
   "metadata": {},
   "outputs": [
    {
     "data": {
      "text/plain": [
       "990"
      ]
     },
     "execution_count": 131,
     "metadata": {},
     "output_type": "execute_result"
    }
   ],
   "source": [
    "len(y_train)"
   ]
  },
  {
   "cell_type": "code",
   "execution_count": 132,
   "metadata": {},
   "outputs": [
    {
     "data": {
      "text/plain": [
       "1626"
      ]
     },
     "execution_count": 132,
     "metadata": {},
     "output_type": "execute_result"
    }
   ],
   "source": [
    "len(x_train_res)"
   ]
  },
  {
   "cell_type": "code",
   "execution_count": 133,
   "metadata": {},
   "outputs": [
    {
     "data": {
      "text/plain": [
       "1626"
      ]
     },
     "execution_count": 133,
     "metadata": {},
     "output_type": "execute_result"
    }
   ],
   "source": [
    "len(y_train_res)"
   ]
  },
  {
   "cell_type": "code",
   "execution_count": 135,
   "metadata": {},
   "outputs": [
    {
     "name": "stdout",
     "output_type": "stream",
     "text": [
      "990 990 1626 1626\n"
     ]
    }
   ],
   "source": [
    "print(len(x_train),len(y_train),len(x_train_res),len(y_train_res))"
   ]
  },
  {
   "cell_type": "code",
   "execution_count": 139,
   "metadata": {},
   "outputs": [],
   "source": [
    "x_train_res = pd.DataFrame(x_train_res)\n",
    "y_train_res = pd.DataFrame(y_train_res)\n",
    "x_test = pd.DataFrame(x_test)\n",
    "x_test = pd.DataFrame(y_test)"
   ]
  },
  {
   "cell_type": "code",
   "execution_count": 140,
   "metadata": {},
   "outputs": [
    {
     "name": "stderr",
     "output_type": "stream",
     "text": [
      "C:\\Users\\ellie\\Miniconda3\\lib\\site-packages\\ipykernel_launcher.py:4: FutureWarning: The signature of `Series.to_csv` was aligned to that of `DataFrame.to_csv`, and argument 'header' will change its default value from False to True: please pass an explicit value to suppress this warning.\n",
      "  after removing the cwd from sys.path.\n"
     ]
    }
   ],
   "source": [
    "x_train_res.to_csv('../../big datasets/drugml/x_train_res.csv')\n",
    "y_train_res.to_csv('../../big datasets/drugml/y_train_res.csv')\n",
    "x_test.to_csv('../../big datasets/drugml/x_test.csv')\n",
    "y_test.to_csv('../../big datasets/drugml/y_test.csv')"
   ]
  },
  {
   "cell_type": "code",
   "execution_count": null,
   "metadata": {},
   "outputs": [],
   "source": []
  }
 ],
 "metadata": {
  "kernelspec": {
   "display_name": "Python 3",
   "language": "python",
   "name": "python3"
  },
  "language_info": {
   "codemirror_mode": {
    "name": "ipython",
    "version": 3
   },
   "file_extension": ".py",
   "mimetype": "text/x-python",
   "name": "python",
   "nbconvert_exporter": "python",
   "pygments_lexer": "ipython3",
   "version": "3.7.0"
  }
 },
 "nbformat": 4,
 "nbformat_minor": 2
}
