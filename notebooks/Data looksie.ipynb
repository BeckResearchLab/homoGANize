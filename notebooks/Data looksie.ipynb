{
 "cells": [
  {
   "cell_type": "code",
   "execution_count": 2,
   "metadata": {},
   "outputs": [],
   "source": [
    "import pandas as pd\n",
    "import numpy as np"
   ]
  },
  {
   "cell_type": "code",
   "execution_count": 3,
   "metadata": {},
   "outputs": [],
   "source": [
    "data1 = pd.read_csv('96_prop.csv')"
   ]
  },
  {
   "cell_type": "code",
   "execution_count": 4,
   "metadata": {},
   "outputs": [
    {
     "data": {
      "text/html": [
       "<div>\n",
       "<style scoped>\n",
       "    .dataframe tbody tr th:only-of-type {\n",
       "        vertical-align: middle;\n",
       "    }\n",
       "\n",
       "    .dataframe tbody tr th {\n",
       "        vertical-align: top;\n",
       "    }\n",
       "\n",
       "    .dataframe thead th {\n",
       "        text-align: right;\n",
       "    }\n",
       "</style>\n",
       "<table border=\"1\" class=\"dataframe\">\n",
       "  <thead>\n",
       "    <tr style=\"text-align: right;\">\n",
       "      <th></th>\n",
       "      <th>ZINC_ID</th>\n",
       "      <th>MWT</th>\n",
       "      <th>LogP</th>\n",
       "      <th>Desolv_apolar</th>\n",
       "      <th>Desolv_polar</th>\n",
       "      <th>HBD</th>\n",
       "      <th>HBA</th>\n",
       "      <th>tPSA</th>\n",
       "      <th>Charge</th>\n",
       "      <th>NRB</th>\n",
       "      <th>SMILES</th>\n",
       "    </tr>\n",
       "  </thead>\n",
       "  <tbody>\n",
       "    <tr>\n",
       "      <th>0</th>\n",
       "      <td>ZINC00000018</td>\n",
       "      <td>212.318</td>\n",
       "      <td>2.00</td>\n",
       "      <td>5.87</td>\n",
       "      <td>-8.20</td>\n",
       "      <td>1</td>\n",
       "      <td>3</td>\n",
       "      <td>32</td>\n",
       "      <td>0</td>\n",
       "      <td>4</td>\n",
       "      <td>CC(C)C[C@@H]1C(=O)N(C(=S)N1)CC=C</td>\n",
       "    </tr>\n",
       "    <tr>\n",
       "      <th>1</th>\n",
       "      <td>ZINC00000023</td>\n",
       "      <td>250.362</td>\n",
       "      <td>2.58</td>\n",
       "      <td>5.16</td>\n",
       "      <td>-40.25</td>\n",
       "      <td>3</td>\n",
       "      <td>3</td>\n",
       "      <td>46</td>\n",
       "      <td>1</td>\n",
       "      <td>8</td>\n",
       "      <td>CC(C)[NH2+]C[C@H](COc1ccccc1CC=C)O</td>\n",
       "    </tr>\n",
       "    <tr>\n",
       "      <th>2</th>\n",
       "      <td>ZINC00000036</td>\n",
       "      <td>151.141</td>\n",
       "      <td>0.37</td>\n",
       "      <td>3.51</td>\n",
       "      <td>-45.30</td>\n",
       "      <td>1</td>\n",
       "      <td>3</td>\n",
       "      <td>60</td>\n",
       "      <td>-1</td>\n",
       "      <td>2</td>\n",
       "      <td>c1ccc(cc1)[C@@H](C(=O)[O-])O</td>\n",
       "    </tr>\n",
       "    <tr>\n",
       "      <th>3</th>\n",
       "      <td>ZINC00000053</td>\n",
       "      <td>179.151</td>\n",
       "      <td>1.43</td>\n",
       "      <td>6.59</td>\n",
       "      <td>-56.84</td>\n",
       "      <td>0</td>\n",
       "      <td>4</td>\n",
       "      <td>66</td>\n",
       "      <td>-1</td>\n",
       "      <td>3</td>\n",
       "      <td>CC(=O)Oc1ccccc1C(=O)[O-]</td>\n",
       "    </tr>\n",
       "    <tr>\n",
       "      <th>4</th>\n",
       "      <td>ZINC00000056</td>\n",
       "      <td>290.383</td>\n",
       "      <td>1.77</td>\n",
       "      <td>-0.01</td>\n",
       "      <td>-37.55</td>\n",
       "      <td>2</td>\n",
       "      <td>4</td>\n",
       "      <td>50</td>\n",
       "      <td>1</td>\n",
       "      <td>5</td>\n",
       "      <td>C[NH+]1[C@@H]2CC[C@H]1CC(C2)OC(=O)[C@H](CO)c3c...</td>\n",
       "    </tr>\n",
       "  </tbody>\n",
       "</table>\n",
       "</div>"
      ],
      "text/plain": [
       "        ZINC_ID      MWT  LogP  Desolv_apolar  Desolv_polar  HBD  HBA  tPSA  \\\n",
       "0  ZINC00000018  212.318  2.00           5.87         -8.20    1    3    32   \n",
       "1  ZINC00000023  250.362  2.58           5.16        -40.25    3    3    46   \n",
       "2  ZINC00000036  151.141  0.37           3.51        -45.30    1    3    60   \n",
       "3  ZINC00000053  179.151  1.43           6.59        -56.84    0    4    66   \n",
       "4  ZINC00000056  290.383  1.77          -0.01        -37.55    2    4    50   \n",
       "\n",
       "   Charge  NRB                                             SMILES  \n",
       "0       0    4                   CC(C)C[C@@H]1C(=O)N(C(=S)N1)CC=C  \n",
       "1       1    8                 CC(C)[NH2+]C[C@H](COc1ccccc1CC=C)O  \n",
       "2      -1    2                       c1ccc(cc1)[C@@H](C(=O)[O-])O  \n",
       "3      -1    3                           CC(=O)Oc1ccccc1C(=O)[O-]  \n",
       "4       1    5  C[NH+]1[C@@H]2CC[C@H]1CC(C2)OC(=O)[C@H](CO)c3c...  "
      ]
     },
     "execution_count": 4,
     "metadata": {},
     "output_type": "execute_result"
    }
   ],
   "source": [
    "data1.head()"
   ]
  },
  {
   "cell_type": "code",
   "execution_count": 5,
   "metadata": {},
   "outputs": [
    {
     "data": {
      "text/plain": [
       "(2924, 11)"
      ]
     },
     "execution_count": 5,
     "metadata": {},
     "output_type": "execute_result"
    }
   ],
   "source": [
    "data1.shape"
   ]
  },
  {
   "cell_type": "code",
   "execution_count": 9,
   "metadata": {},
   "outputs": [],
   "source": [
    "data2 = pd.read_csv('103_prop.xls.csv')"
   ]
  },
  {
   "cell_type": "code",
   "execution_count": 10,
   "metadata": {},
   "outputs": [
    {
     "data": {
      "text/plain": [
       "(101745, 11)"
      ]
     },
     "execution_count": 10,
     "metadata": {},
     "output_type": "execute_result"
    }
   ],
   "source": [
    "data2.shape"
   ]
  },
  {
   "cell_type": "code",
   "execution_count": 11,
   "metadata": {},
   "outputs": [
    {
     "data": {
      "text/html": [
       "<div>\n",
       "<style scoped>\n",
       "    .dataframe tbody tr th:only-of-type {\n",
       "        vertical-align: middle;\n",
       "    }\n",
       "\n",
       "    .dataframe tbody tr th {\n",
       "        vertical-align: top;\n",
       "    }\n",
       "\n",
       "    .dataframe thead th {\n",
       "        text-align: right;\n",
       "    }\n",
       "</style>\n",
       "<table border=\"1\" class=\"dataframe\">\n",
       "  <thead>\n",
       "    <tr style=\"text-align: right;\">\n",
       "      <th></th>\n",
       "      <th>ZINC_ID</th>\n",
       "      <th>MWT</th>\n",
       "      <th>LogP</th>\n",
       "      <th>Desolv_apolar</th>\n",
       "      <th>Desolv_polar</th>\n",
       "      <th>HBD</th>\n",
       "      <th>HBA</th>\n",
       "      <th>tPSA</th>\n",
       "      <th>Charge</th>\n",
       "      <th>NRB</th>\n",
       "      <th>SMILES</th>\n",
       "    </tr>\n",
       "  </thead>\n",
       "  <tbody>\n",
       "    <tr>\n",
       "      <th>0</th>\n",
       "      <td>ZINC00000010</td>\n",
       "      <td>217.200</td>\n",
       "      <td>1.42</td>\n",
       "      <td>5.57</td>\n",
       "      <td>-41.98</td>\n",
       "      <td>0</td>\n",
       "      <td>4</td>\n",
       "      <td>66</td>\n",
       "      <td>-1</td>\n",
       "      <td>2</td>\n",
       "      <td>C[C@@]1(C(=O)C=C(O1)C(=O)[O-])c2ccccc2</td>\n",
       "    </tr>\n",
       "    <tr>\n",
       "      <th>1</th>\n",
       "      <td>ZINC00000012</td>\n",
       "      <td>289.356</td>\n",
       "      <td>1.28</td>\n",
       "      <td>4.89</td>\n",
       "      <td>-24.55</td>\n",
       "      <td>2</td>\n",
       "      <td>4</td>\n",
       "      <td>66</td>\n",
       "      <td>0</td>\n",
       "      <td>5</td>\n",
       "      <td>c1ccc(cc1)C(c2ccccc2)[S@](=O)CC(=O)NO</td>\n",
       "    </tr>\n",
       "    <tr>\n",
       "      <th>2</th>\n",
       "      <td>ZINC00000017</td>\n",
       "      <td>281.337</td>\n",
       "      <td>1.33</td>\n",
       "      <td>3.06</td>\n",
       "      <td>-23.33</td>\n",
       "      <td>2</td>\n",
       "      <td>6</td>\n",
       "      <td>87</td>\n",
       "      <td>0</td>\n",
       "      <td>4</td>\n",
       "      <td>CCC[S@](=O)c1ccc2c(c1)[nH]/c(=N\\C(=O)OC)/[nH]2</td>\n",
       "    </tr>\n",
       "    <tr>\n",
       "      <th>3</th>\n",
       "      <td>ZINC00000017</td>\n",
       "      <td>281.337</td>\n",
       "      <td>1.33</td>\n",
       "      <td>3.07</td>\n",
       "      <td>-19.20</td>\n",
       "      <td>2</td>\n",
       "      <td>6</td>\n",
       "      <td>87</td>\n",
       "      <td>0</td>\n",
       "      <td>4</td>\n",
       "      <td>CCC[S@](=O)c1ccc2c(c1)[nH]/c(=N/C(=O)OC)/[nH]2</td>\n",
       "    </tr>\n",
       "    <tr>\n",
       "      <th>4</th>\n",
       "      <td>ZINC00000022</td>\n",
       "      <td>218.276</td>\n",
       "      <td>3.21</td>\n",
       "      <td>0.47</td>\n",
       "      <td>-48.57</td>\n",
       "      <td>1</td>\n",
       "      <td>3</td>\n",
       "      <td>52</td>\n",
       "      <td>-1</td>\n",
       "      <td>5</td>\n",
       "      <td>C[C@@H](c1ccc(cc1)NCC(=C)C)C(=O)[O-]</td>\n",
       "    </tr>\n",
       "  </tbody>\n",
       "</table>\n",
       "</div>"
      ],
      "text/plain": [
       "        ZINC_ID      MWT  LogP  Desolv_apolar  Desolv_polar  HBD  HBA  tPSA  \\\n",
       "0  ZINC00000010  217.200  1.42           5.57        -41.98    0    4    66   \n",
       "1  ZINC00000012  289.356  1.28           4.89        -24.55    2    4    66   \n",
       "2  ZINC00000017  281.337  1.33           3.06        -23.33    2    6    87   \n",
       "3  ZINC00000017  281.337  1.33           3.07        -19.20    2    6    87   \n",
       "4  ZINC00000022  218.276  3.21           0.47        -48.57    1    3    52   \n",
       "\n",
       "   Charge  NRB                                          SMILES  \n",
       "0      -1    2          C[C@@]1(C(=O)C=C(O1)C(=O)[O-])c2ccccc2  \n",
       "1       0    5           c1ccc(cc1)C(c2ccccc2)[S@](=O)CC(=O)NO  \n",
       "2       0    4  CCC[S@](=O)c1ccc2c(c1)[nH]/c(=N\\C(=O)OC)/[nH]2  \n",
       "3       0    4  CCC[S@](=O)c1ccc2c(c1)[nH]/c(=N/C(=O)OC)/[nH]2  \n",
       "4      -1    5            C[C@@H](c1ccc(cc1)NCC(=C)C)C(=O)[O-]  "
      ]
     },
     "execution_count": 11,
     "metadata": {},
     "output_type": "execute_result"
    }
   ],
   "source": [
    "data2.head()"
   ]
  },
  {
   "cell_type": "code",
   "execution_count": 12,
   "metadata": {},
   "outputs": [],
   "source": [
    "data3 = pd.read_csv('biodeg.csv')"
   ]
  },
  {
   "cell_type": "code",
   "execution_count": 13,
   "metadata": {},
   "outputs": [
    {
     "data": {
      "text/html": [
       "<div>\n",
       "<style scoped>\n",
       "    .dataframe tbody tr th:only-of-type {\n",
       "        vertical-align: middle;\n",
       "    }\n",
       "\n",
       "    .dataframe tbody tr th {\n",
       "        vertical-align: top;\n",
       "    }\n",
       "\n",
       "    .dataframe thead th {\n",
       "        text-align: right;\n",
       "    }\n",
       "</style>\n",
       "<table border=\"1\" class=\"dataframe\">\n",
       "  <thead>\n",
       "    <tr style=\"text-align: right;\">\n",
       "      <th></th>\n",
       "      <th>3.919;2.6909;0;0;0;0;0;31.4;2;0;0;0;3.106;2.55;9.002;0;0.96;1.142;0;0;0;1.201;0;0;0;0;1.932;0.011;0;0;4.489;0;0;0;0;2.949;1.591;0;7.253;0;0;RB</th>\n",
       "    </tr>\n",
       "  </thead>\n",
       "  <tbody>\n",
       "    <tr>\n",
       "      <th>0</th>\n",
       "      <td>4.17;2.1144;0;0;0;0;0;30.8;1;1;0;0;2.461;1.393...</td>\n",
       "    </tr>\n",
       "    <tr>\n",
       "      <th>1</th>\n",
       "      <td>3.932;3.2512;0;0;0;0;0;26.7;2;4;0;0;3.279;2.58...</td>\n",
       "    </tr>\n",
       "    <tr>\n",
       "      <th>2</th>\n",
       "      <td>3;2.7098;0;0;0;0;0;20;0;2;0;0;2.1;0.918;6.594;...</td>\n",
       "    </tr>\n",
       "    <tr>\n",
       "      <th>3</th>\n",
       "      <td>4.236;3.3944;0;0;0;0;0;29.4;2;4;0;-0.271;3.449...</td>\n",
       "    </tr>\n",
       "    <tr>\n",
       "      <th>4</th>\n",
       "      <td>4.236;3.4286;0;0;0;0;0;28.6;2;4;0;-0.275;3.313...</td>\n",
       "    </tr>\n",
       "  </tbody>\n",
       "</table>\n",
       "</div>"
      ],
      "text/plain": [
       "  3.919;2.6909;0;0;0;0;0;31.4;2;0;0;0;3.106;2.55;9.002;0;0.96;1.142;0;0;0;1.201;0;0;0;0;1.932;0.011;0;0;4.489;0;0;0;0;2.949;1.591;0;7.253;0;0;RB\n",
       "0  4.17;2.1144;0;0;0;0;0;30.8;1;1;0;0;2.461;1.393...                                                                                            \n",
       "1  3.932;3.2512;0;0;0;0;0;26.7;2;4;0;0;3.279;2.58...                                                                                            \n",
       "2  3;2.7098;0;0;0;0;0;20;0;2;0;0;2.1;0.918;6.594;...                                                                                            \n",
       "3  4.236;3.3944;0;0;0;0;0;29.4;2;4;0;-0.271;3.449...                                                                                            \n",
       "4  4.236;3.4286;0;0;0;0;0;28.6;2;4;0;-0.275;3.313...                                                                                            "
      ]
     },
     "execution_count": 13,
     "metadata": {},
     "output_type": "execute_result"
    }
   ],
   "source": [
    "data3.head()"
   ]
  },
  {
   "cell_type": "code",
   "execution_count": null,
   "metadata": {},
   "outputs": [],
   "source": [
    "try:\n",
    "    import lzma\n",
    "except ImportError:\n",
    "    from backports import lzma\n",
    "\n",
    "lzma.open('../../Downloads/Compounds_all_sortedbymw_ver1.0.xz').read()"
   ]
  },
  {
   "cell_type": "code",
   "execution_count": null,
   "metadata": {},
   "outputs": [],
   "source": []
  }
 ],
 "metadata": {
  "kernelspec": {
   "display_name": "Python 3",
   "language": "python",
   "name": "python3"
  },
  "language_info": {
   "codemirror_mode": {
    "name": "ipython",
    "version": 3
   },
   "file_extension": ".py",
   "mimetype": "text/x-python",
   "name": "python",
   "nbconvert_exporter": "python",
   "pygments_lexer": "ipython3",
   "version": "3.7.0"
  }
 },
 "nbformat": 4,
 "nbformat_minor": 2
}
