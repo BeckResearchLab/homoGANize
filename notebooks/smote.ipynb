{
 "cells": [
  {
   "cell_type": "code",
   "execution_count": null,
   "metadata": {},
   "outputs": [],
   "source": [
    "import numpy as np\n",
    "import pandas as pd\n",
    "import \n",
    "from sklearn.preprocessing import StandardScaler\n",
    "from sklearn.model_selection import train_test_split\n",
    "from imblearn.over_sampling import SMOTE"
   ]
  },
  {
   "cell_type": "code",
   "execution_count": null,
   "metadata": {},
   "outputs": [],
   "source": []
  },
  {
   "cell_type": "code",
   "execution_count": null,
   "metadata": {},
   "outputs": [],
   "source": [
    "class FakeSampler(BaseSampler):\n",
    "\n",
    "    _sampling_type = 'bypass'\n",
    "\n",
    "    def _fit_resample(self, X, y):\n",
    "        return X, y\n",
    "\n",
    "\n",
    "fig, ((ax1, ax2), (ax3, ax4)) = plt.subplots(2, 2, figsize=(15, 15))\n",
    "X, y = create_dataset(n_samples=10000, weights=(0.01, 0.05, 0.94))\n",
    "sampler = FakeSampler()\n",
    "clf = make_pipeline(sampler, LinearSVC())\n",
    "plot_resampling(X, y, sampler, ax1)\n",
    "ax1.set_title('Original data - y={}'.format(Counter(y)))\n",
    "\n",
    "ax_arr = (ax2, ax3, ax4)\n",
    "for ax, sampler in zip(ax_arr, (RandomOverSampler(random_state=0),\n",
    "                                SMOTE(random_state=0),\n",
    "                                ADASYN(random_state=0))):\n",
    "    clf = make_pipeline(sampler, LinearSVC())\n",
    "    clf.fit(X, y)\n",
    "    plot_resampling(X, y, sampler, ax)\n",
    "    ax.set_title('Resampling using {}'.format(sampler.__class__.__name__))\n",
    "fig.tight_layout()"
   ]
  }
 ],
 "metadata": {
  "kernelspec": {
   "display_name": "Python 3",
   "language": "python",
   "name": "python3"
  },
  "language_info": {
   "codemirror_mode": {
    "name": "ipython",
    "version": 3
   },
   "file_extension": ".py",
   "mimetype": "text/x-python",
   "name": "python",
   "nbconvert_exporter": "python",
   "pygments_lexer": "ipython3",
   "version": "3.7.0"
  }
 },
 "nbformat": 4,
 "nbformat_minor": 2
}
