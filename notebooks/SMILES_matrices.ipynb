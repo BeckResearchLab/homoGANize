{
 "cells": [
  {
   "cell_type": "code",
   "execution_count": 1,
   "metadata": {},
   "outputs": [],
   "source": [
    "import numpy as np\n",
    "import pandas as pd\n",
    "import rdkit as rdk\n",
    "from rdkit.Chem import AllChem as Chem\n",
    "from rdkit.Chem import MolFromSmiles, MolToSmiles"
   ]
  },
  {
   "cell_type": "markdown",
   "metadata": {},
   "source": [
    "def len_smiles\n",
    "    get number of atoms in smile string (so i know the max length)\n",
    "    return largest number of atoms\n",
    "    \n",
    "def pad_matrix\n",
    "    if len(adj_mat) < max_len:\n",
    "    numpy.pad to max_len\n",
    "    return padded matrix\n",
    "\n",
    "def get_adjacency matrix\n",
    "    use rdkit to get adjacency matrix of smiles\n",
    "    return adjacency matrix\n",
    "\n",
    "def main()\n",
    "    len_smiles\n",
    "    get_adjacency_matrix\n",
    "    pad_matrix\n",
    "    return padded matrix"
   ]
  },
  {
   "cell_type": "code",
   "execution_count": 2,
   "metadata": {},
   "outputs": [],
   "source": [
    "def pad_matrix(mat, max_len):\n",
    "    \n",
    "    rows, cols = np.shape(mat)[0],np.shape(mat)[1]\n",
    "    \n",
    "    if rows == cols < max_len:\n",
    "        diff = max_len - rows\n",
    "        padded = np.pad(mat, diff, 'constant')\n",
    "    \n",
    "    elif rows == cols == max_len:\n",
    "        padded = mat\n",
    "                        \n",
    "    else:\n",
    "        raise ValueError\n",
    "                        \n",
    "    return padded\n",
    "                        \n",
    "\n",
    "def get_adjacency(smiles):\n",
    "    mol = MolFromSmiles(smiles)\n",
    "    mat = Chem.rdmolops.GetAdjacencyMatrix(mol)\n",
    "    return mat\n",
    "\n",
    "def main(df, smiles_colname, max_length):\n",
    "    stored = []\n",
    "    max_len = max_length\n",
    "                        \n",
    "    for index, row in df.iterrows():\n",
    "        smiles = row[smiles_colname]\n",
    "        mat = get_adjacency(smiles)\n",
    "        padded = pad_matrix(mat, max_len)\n",
    "        store = list(padded)\n",
    "        stored.append(store)\n",
    "    return stored"
   ]
  },
  {
   "cell_type": "code",
   "execution_count": 4,
   "metadata": {},
   "outputs": [],
   "source": [
    "stored = main(data, 'SMILES', 85)"
   ]
  },
  {
   "cell_type": "code",
   "execution_count": null,
   "metadata": {},
   "outputs": [],
   "source": [
    "stored"
   ]
  },
  {
   "cell_type": "code",
   "execution_count": null,
   "metadata": {},
   "outputs": [],
   "source": [
    "stored"
   ]
  },
  {
   "cell_type": "code",
   "execution_count": null,
   "metadata": {},
   "outputs": [],
   "source": []
  },
  {
   "cell_type": "code",
   "execution_count": 26,
   "metadata": {},
   "outputs": [],
   "source": [
    "def max_atoms(df, smiles_colname):\n",
    "    listed = []\n",
    "    for index, row in df.iterrows():\n",
    "        smiles = row[smiles_colname]\n",
    "        mol = MolFromSmiles(smiles)\n",
    "        atoms = mol.GetNumAtoms()\n",
    "        listed.append(atoms)\n",
    "    return liste"
   ]
  },
  {
   "cell_type": "code",
   "execution_count": 3,
   "metadata": {},
   "outputs": [],
   "source": [
    "data = pd.read_csv('../../big datasets/better_deg_with_fps.csv')"
   ]
  },
  {
   "cell_type": "code",
   "execution_count": 31,
   "metadata": {},
   "outputs": [
    {
     "ename": "SyntaxError",
     "evalue": "invalid syntax (<ipython-input-31-d578a650efb9>, line 2)",
     "output_type": "error",
     "traceback": [
      "\u001b[1;36m  File \u001b[1;32m\"<ipython-input-31-d578a650efb9>\"\u001b[1;36m, line \u001b[1;32m2\u001b[0m\n\u001b[1;33m    max_len = df.smiles_colname.map(lamda x: len(x)).max()\u001b[0m\n\u001b[1;37m                                          ^\u001b[0m\n\u001b[1;31mSyntaxError\u001b[0m\u001b[1;31m:\u001b[0m invalid syntax\n"
     ]
    }
   ],
   "source": []
  },
  {
   "cell_type": "code",
   "execution_count": 29,
   "metadata": {},
   "outputs": [
    {
     "data": {
      "text/plain": [
       "85"
      ]
     },
     "execution_count": 29,
     "metadata": {},
     "output_type": "execute_result"
    }
   ],
   "source": [
    "listed = max_atoms(data, 'SMILES')\n",
    "max(listed)"
   ]
  },
  {
   "cell_type": "code",
   "execution_count": 30,
   "metadata": {},
   "outputs": [
    {
     "data": {
      "text/html": [
       "<div>\n",
       "<style scoped>\n",
       "    .dataframe tbody tr th:only-of-type {\n",
       "        vertical-align: middle;\n",
       "    }\n",
       "\n",
       "    .dataframe tbody tr th {\n",
       "        vertical-align: top;\n",
       "    }\n",
       "\n",
       "    .dataframe thead th {\n",
       "        text-align: right;\n",
       "    }\n",
       "</style>\n",
       "<table border=\"1\" class=\"dataframe\">\n",
       "  <thead>\n",
       "    <tr style=\"text-align: right;\">\n",
       "      <th></th>\n",
       "      <th>0</th>\n",
       "    </tr>\n",
       "  </thead>\n",
       "  <tbody>\n",
       "    <tr>\n",
       "      <th>count</th>\n",
       "      <td>1055.000000</td>\n",
       "    </tr>\n",
       "    <tr>\n",
       "      <th>mean</th>\n",
       "      <td>13.633175</td>\n",
       "    </tr>\n",
       "    <tr>\n",
       "      <th>std</th>\n",
       "      <td>8.448585</td>\n",
       "    </tr>\n",
       "    <tr>\n",
       "      <th>min</th>\n",
       "      <td>2.000000</td>\n",
       "    </tr>\n",
       "    <tr>\n",
       "      <th>25%</th>\n",
       "      <td>9.000000</td>\n",
       "    </tr>\n",
       "    <tr>\n",
       "      <th>50%</th>\n",
       "      <td>11.000000</td>\n",
       "    </tr>\n",
       "    <tr>\n",
       "      <th>75%</th>\n",
       "      <td>17.000000</td>\n",
       "    </tr>\n",
       "    <tr>\n",
       "      <th>max</th>\n",
       "      <td>85.000000</td>\n",
       "    </tr>\n",
       "  </tbody>\n",
       "</table>\n",
       "</div>"
      ],
      "text/plain": [
       "                 0\n",
       "count  1055.000000\n",
       "mean     13.633175\n",
       "std       8.448585\n",
       "min       2.000000\n",
       "25%       9.000000\n",
       "50%      11.000000\n",
       "75%      17.000000\n",
       "max      85.000000"
      ]
     },
     "execution_count": 30,
     "metadata": {},
     "output_type": "execute_result"
    }
   ],
   "source": [
    "listed_df = pd.DataFrame(listed)\n",
    "listed_df.describe()"
   ]
  },
  {
   "cell_type": "code",
   "execution_count": 6,
   "metadata": {},
   "outputs": [
    {
     "data": {
      "text/html": [
       "<div>\n",
       "<style scoped>\n",
       "    .dataframe tbody tr th:only-of-type {\n",
       "        vertical-align: middle;\n",
       "    }\n",
       "\n",
       "    .dataframe tbody tr th {\n",
       "        vertical-align: top;\n",
       "    }\n",
       "\n",
       "    .dataframe thead th {\n",
       "        text-align: right;\n",
       "    }\n",
       "</style>\n",
       "<table border=\"1\" class=\"dataframe\">\n",
       "  <thead>\n",
       "    <tr style=\"text-align: right;\">\n",
       "      <th></th>\n",
       "      <th>Unnamed: 0</th>\n",
       "      <th>CAS-RN</th>\n",
       "      <th>SMILES</th>\n",
       "      <th>Class</th>\n",
       "      <th>Status</th>\n",
       "      <th>SpMax_L</th>\n",
       "      <th>J_Dz(e)</th>\n",
       "      <th>nHM</th>\n",
       "      <th>F01[N-N]</th>\n",
       "      <th>F04[C-N]</th>\n",
       "      <th>...</th>\n",
       "      <th>F02[C-N]</th>\n",
       "      <th>nHDon</th>\n",
       "      <th>SpMax_B(m)</th>\n",
       "      <th>Psi_i_A</th>\n",
       "      <th>nN</th>\n",
       "      <th>SM6_B(m)</th>\n",
       "      <th>nArCOOR</th>\n",
       "      <th>nX</th>\n",
       "      <th>Mol</th>\n",
       "      <th>Fingerprint</th>\n",
       "    </tr>\n",
       "  </thead>\n",
       "  <tbody>\n",
       "    <tr>\n",
       "      <th>0</th>\n",
       "      <td>0</td>\n",
       "      <td>1120-21-4</td>\n",
       "      <td>CCCCCCCCCCC</td>\n",
       "      <td>RB</td>\n",
       "      <td>Train</td>\n",
       "      <td>3.919</td>\n",
       "      <td>2.6909</td>\n",
       "      <td>0</td>\n",
       "      <td>0</td>\n",
       "      <td>0</td>\n",
       "      <td>...</td>\n",
       "      <td>0</td>\n",
       "      <td>0</td>\n",
       "      <td>2.949</td>\n",
       "      <td>1.591</td>\n",
       "      <td>0</td>\n",
       "      <td>7.253</td>\n",
       "      <td>0</td>\n",
       "      <td>0</td>\n",
       "      <td>&lt;rdkit.Chem.rdchem.Mol object at 0x000001708DE...</td>\n",
       "      <td>&lt;rdkit.DataStructs.cDataStructs.ExplicitBitVec...</td>\n",
       "    </tr>\n",
       "    <tr>\n",
       "      <th>1</th>\n",
       "      <td>1</td>\n",
       "      <td>106-88-7</td>\n",
       "      <td>CCC1CO1</td>\n",
       "      <td>RB</td>\n",
       "      <td>Train</td>\n",
       "      <td>4.170</td>\n",
       "      <td>2.1144</td>\n",
       "      <td>0</td>\n",
       "      <td>0</td>\n",
       "      <td>0</td>\n",
       "      <td>...</td>\n",
       "      <td>0</td>\n",
       "      <td>0</td>\n",
       "      <td>3.315</td>\n",
       "      <td>1.967</td>\n",
       "      <td>0</td>\n",
       "      <td>7.257</td>\n",
       "      <td>0</td>\n",
       "      <td>0</td>\n",
       "      <td>&lt;rdkit.Chem.rdchem.Mol object at 0x000001708DE...</td>\n",
       "      <td>&lt;rdkit.DataStructs.cDataStructs.ExplicitBitVec...</td>\n",
       "    </tr>\n",
       "    <tr>\n",
       "      <th>2</th>\n",
       "      <td>2</td>\n",
       "      <td>112-50-5</td>\n",
       "      <td>CCOCCOCCOCCO</td>\n",
       "      <td>RB</td>\n",
       "      <td>Train</td>\n",
       "      <td>3.932</td>\n",
       "      <td>3.2512</td>\n",
       "      <td>0</td>\n",
       "      <td>0</td>\n",
       "      <td>0</td>\n",
       "      <td>...</td>\n",
       "      <td>0</td>\n",
       "      <td>1</td>\n",
       "      <td>3.076</td>\n",
       "      <td>2.417</td>\n",
       "      <td>0</td>\n",
       "      <td>7.601</td>\n",
       "      <td>0</td>\n",
       "      <td>0</td>\n",
       "      <td>&lt;rdkit.Chem.rdchem.Mol object at 0x000001708DE...</td>\n",
       "      <td>&lt;rdkit.DataStructs.cDataStructs.ExplicitBitVec...</td>\n",
       "    </tr>\n",
       "    <tr>\n",
       "      <th>3</th>\n",
       "      <td>3</td>\n",
       "      <td>64-18-6</td>\n",
       "      <td>OC=O</td>\n",
       "      <td>RB</td>\n",
       "      <td>Train</td>\n",
       "      <td>3.000</td>\n",
       "      <td>2.7098</td>\n",
       "      <td>0</td>\n",
       "      <td>0</td>\n",
       "      <td>0</td>\n",
       "      <td>...</td>\n",
       "      <td>0</td>\n",
       "      <td>1</td>\n",
       "      <td>3.046</td>\n",
       "      <td>5.000</td>\n",
       "      <td>0</td>\n",
       "      <td>6.690</td>\n",
       "      <td>0</td>\n",
       "      <td>0</td>\n",
       "      <td>&lt;rdkit.Chem.rdchem.Mol object at 0x000001708DE...</td>\n",
       "      <td>&lt;rdkit.DataStructs.cDataStructs.ExplicitBitVec...</td>\n",
       "    </tr>\n",
       "    <tr>\n",
       "      <th>4</th>\n",
       "      <td>4</td>\n",
       "      <td>124-17-4</td>\n",
       "      <td>CCCCOCCOCCOC(C)=O</td>\n",
       "      <td>RB</td>\n",
       "      <td>Train</td>\n",
       "      <td>4.236</td>\n",
       "      <td>3.3944</td>\n",
       "      <td>0</td>\n",
       "      <td>0</td>\n",
       "      <td>0</td>\n",
       "      <td>...</td>\n",
       "      <td>0</td>\n",
       "      <td>0</td>\n",
       "      <td>3.351</td>\n",
       "      <td>2.405</td>\n",
       "      <td>0</td>\n",
       "      <td>8.003</td>\n",
       "      <td>0</td>\n",
       "      <td>0</td>\n",
       "      <td>&lt;rdkit.Chem.rdchem.Mol object at 0x000001708DE...</td>\n",
       "      <td>&lt;rdkit.DataStructs.cDataStructs.ExplicitBitVec...</td>\n",
       "    </tr>\n",
       "  </tbody>\n",
       "</table>\n",
       "<p>5 rows × 48 columns</p>\n",
       "</div>"
      ],
      "text/plain": [
       "   Unnamed: 0     CAS-RN             SMILES Class Status  SpMax_L  J_Dz(e)  \\\n",
       "0           0  1120-21-4        CCCCCCCCCCC    RB  Train    3.919   2.6909   \n",
       "1           1   106-88-7            CCC1CO1    RB  Train    4.170   2.1144   \n",
       "2           2   112-50-5       CCOCCOCCOCCO    RB  Train    3.932   3.2512   \n",
       "3           3    64-18-6               OC=O    RB  Train    3.000   2.7098   \n",
       "4           4   124-17-4  CCCCOCCOCCOC(C)=O    RB  Train    4.236   3.3944   \n",
       "\n",
       "   nHM  F01[N-N]  F04[C-N]  ...  F02[C-N]  nHDon  SpMax_B(m)  Psi_i_A  nN  \\\n",
       "0    0         0         0  ...         0      0       2.949    1.591   0   \n",
       "1    0         0         0  ...         0      0       3.315    1.967   0   \n",
       "2    0         0         0  ...         0      1       3.076    2.417   0   \n",
       "3    0         0         0  ...         0      1       3.046    5.000   0   \n",
       "4    0         0         0  ...         0      0       3.351    2.405   0   \n",
       "\n",
       "   SM6_B(m)  nArCOOR  nX                                                Mol  \\\n",
       "0     7.253        0   0  <rdkit.Chem.rdchem.Mol object at 0x000001708DE...   \n",
       "1     7.257        0   0  <rdkit.Chem.rdchem.Mol object at 0x000001708DE...   \n",
       "2     7.601        0   0  <rdkit.Chem.rdchem.Mol object at 0x000001708DE...   \n",
       "3     6.690        0   0  <rdkit.Chem.rdchem.Mol object at 0x000001708DE...   \n",
       "4     8.003        0   0  <rdkit.Chem.rdchem.Mol object at 0x000001708DE...   \n",
       "\n",
       "                                         Fingerprint  \n",
       "0  <rdkit.DataStructs.cDataStructs.ExplicitBitVec...  \n",
       "1  <rdkit.DataStructs.cDataStructs.ExplicitBitVec...  \n",
       "2  <rdkit.DataStructs.cDataStructs.ExplicitBitVec...  \n",
       "3  <rdkit.DataStructs.cDataStructs.ExplicitBitVec...  \n",
       "4  <rdkit.DataStructs.cDataStructs.ExplicitBitVec...  \n",
       "\n",
       "[5 rows x 48 columns]"
      ]
     },
     "execution_count": 6,
     "metadata": {},
     "output_type": "execute_result"
    }
   ],
   "source": [
    "data.head()"
   ]
  },
  {
   "cell_type": "code",
   "execution_count": null,
   "metadata": {},
   "outputs": [],
   "source": []
  },
  {
   "cell_type": "code",
   "execution_count": null,
   "metadata": {},
   "outputs": [],
   "source": [
    "save arrays as lists inside appropriate row of pd dataframe. call them out and turn them back into matrices when pulling them out to feed into the GAN."
   ]
  },
  {
   "cell_type": "code",
   "execution_count": null,
   "metadata": {},
   "outputs": [],
   "source": []
  },
  {
   "cell_type": "code",
   "execution_count": null,
   "metadata": {},
   "outputs": [],
   "source": [
    "stored = []\n",
    "\n",
    "store = list(padded)\n",
    "stored.append(store)"
   ]
  }
 ],
 "metadata": {
  "kernelspec": {
   "display_name": "Python 3",
   "language": "python",
   "name": "python3"
  },
  "language_info": {
   "codemirror_mode": {
    "name": "ipython",
    "version": 3
   },
   "file_extension": ".py",
   "mimetype": "text/x-python",
   "name": "python",
   "nbconvert_exporter": "python",
   "pygments_lexer": "ipython3",
   "version": "3.7.0"
  }
 },
 "nbformat": 4,
 "nbformat_minor": 2
}
